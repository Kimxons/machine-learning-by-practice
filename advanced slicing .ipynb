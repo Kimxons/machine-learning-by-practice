{
 "cells": [
  {
   "cell_type": "code",
   "execution_count": 10,
   "metadata": {
    "scrolled": false
   },
   "outputs": [
    {
     "name": "stdout",
     "output_type": "stream",
     "text": [
      "[36 48 12]\n"
     ]
    }
   ],
   "source": [
    "import numpy as np \n",
    "\n",
    "arr = np.array([[36, 48, 12, 12],\n",
    "                [48, 64, 16, 16],\n",
    "                [12, 16,  4,  4],\n",
    "                [12, 16,  4,  4]])\n",
    "print(arr[0, :]) #gives you the first chunk\n",
    "# print(arr[:3]) #gives you the first 3 chunks\n",
    "# print(arr[3:]) #gives you the 4th chunk\n",
    "\n",
    "# you can try different combinations"
   ]
  }
 ],
 "metadata": {
  "kernelspec": {
   "display_name": "Python 3",
   "language": "python",
   "name": "python3"
  },
  "language_info": {
   "codemirror_mode": {
    "name": "ipython",
    "version": 3
   },
   "file_extension": ".py",
   "mimetype": "text/x-python",
   "name": "python",
   "nbconvert_exporter": "python",
   "pygments_lexer": "ipython3",
   "version": "3.7.3"
  }
 },
 "nbformat": 4,
 "nbformat_minor": 2
}
