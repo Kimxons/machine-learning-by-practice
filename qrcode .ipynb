{
 "cells": [
  {
   "cell_type": "code",
   "execution_count": 1,
   "metadata": {
    "scrolled": true
   },
   "outputs": [
    {
     "name": "stdout",
     "output_type": "stream",
     "text": [
      "LVQZE-C026-01-0128-2017\n"
     ]
    }
   ],
   "source": [
    "import numpy as np\n",
    "import string  \n",
    "import random\n",
    "\n",
    "# print('-'.join(tx))\n",
    "reg = 'regNo'\n",
    "\n",
    "tx_len = 5\n",
    "tx = np.random.choice(list(string.ascii_uppercase + string.digits))                \n",
    "tx1 = (''.join(random.sample((string.ascii_uppercase+string.digits)*5,5)))\n",
    "tx2 = (tx1 + '-' + reg)\n",
    "print(tx2)"
   ]
  },
  {
   "cell_type": "code",
   "execution_count": 4,
   "metadata": {
    "scrolled": true
   },
   "outputs": [],
   "source": [
    "import qrcode\n",
    "\n",
    "qr = qrcode.make(tx2)\n",
    "qr.save(\"ecard.png\")"
   ]
  }
 ],
 "metadata": {
  "kernelspec": {
   "display_name": "Python 3",
   "language": "python",
   "name": "python3"
  },
  "language_info": {
   "codemirror_mode": {
    "name": "ipython",
    "version": 3
   },
   "file_extension": ".py",
   "mimetype": "text/x-python",
   "name": "python",
   "nbconvert_exporter": "python",
   "pygments_lexer": "ipython3",
   "version": "3.7.3"
  }
 },
 "nbformat": 4,
 "nbformat_minor": 2
}
