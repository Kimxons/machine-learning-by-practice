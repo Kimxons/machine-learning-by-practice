{
 "cells": [
  {
   "cell_type": "markdown",
   "metadata": {},
   "source": [
    "# section 1"
   ]
  },
  {
   "cell_type": "markdown",
   "metadata": {
    "colab_type": "text",
    "id": "FHZJo9Gez_fI"
   },
   "source": [
    "## Data Preparation & Exploratory Data Analysis (EDA)\n"
   ]
  },
  {
   "cell_type": "code",
   "execution_count": 1,
   "metadata": {
    "colab": {},
    "colab_type": "code",
    "id": "Ldn1jztri_MS"
   },
   "outputs": [],
   "source": [
    "import pandas as pd\n",
    "import numpy as np\n",
    "import matplotlib.pyplot as plt\n",
    "from sklearn import preprocessing\n",
    "from scipy.spatial import distance_matrix\n",
    "from sklearn.cluster import KMeans, AgglomerativeClustering\n",
    "from sklearn.preprocessing import LabelBinarizer\n",
    "from sklearn.model_selection import train_test_split\n",
    "from sklearn.metrics import accuracy_score, roc_curve, auc\n",
    "from sklearn.metrics import recall_score\n",
    "from sklearn.tree import DecisionTreeClassifier"
   ]
  },
  {
   "cell_type": "markdown",
   "metadata": {
    "colab_type": "text",
    "id": "qGEN6kpr0IVR"
   },
   "source": [
    "#### Import data "
   ]
  },
  {
   "cell_type": "code",
   "execution_count": 2,
   "metadata": {
    "colab": {},
    "colab_type": "code",
    "id": "uP4oRL9Gj3Dh"
   },
   "outputs": [],
   "source": [
    "OUTPUT_COL = \"RainTomorrow\"\n",
    "df_train = pd.read_csv(\"Weather Forecast Training.csv\")\n",
    "df_test = pd.read_csv(\"Weather Forecast Testing.csv\")\n",
    "df_test_copy = df_test"
   ]
  },
  {
   "cell_type": "code",
   "execution_count": 3,
   "metadata": {
    "colab": {
     "base_uri": "https://localhost:8080/",
     "height": 34
    },
    "colab_type": "code",
    "id": "LT7T68q6i_Ma",
    "outputId": "1320066d-9a67-4ba4-e536-db855e563976"
   },
   "outputs": [
    {
     "data": {
      "text/plain": [
       "(51978, 16)"
      ]
     },
     "execution_count": 3,
     "metadata": {},
     "output_type": "execute_result"
    }
   ],
   "source": [
    "df_train.shape"
   ]
  },
  {
   "cell_type": "code",
   "execution_count": 4,
   "metadata": {
    "colab": {
     "base_uri": "https://localhost:8080/",
     "height": 34
    },
    "colab_type": "code",
    "id": "0WxY89w6i_Md",
    "outputId": "2d7235e9-128b-4d50-efd3-c6b6563f8e42"
   },
   "outputs": [
    {
     "data": {
      "text/plain": [
       "(12994, 16)"
      ]
     },
     "execution_count": 4,
     "metadata": {},
     "output_type": "execute_result"
    }
   ],
   "source": [
    "df_test.shape"
   ]
  },
  {
   "cell_type": "code",
   "execution_count": 8,
   "metadata": {
    "colab": {
     "base_uri": "https://localhost:8080/",
     "height": 284
    },
    "colab_type": "code",
    "id": "u4T6mPuCi_Mg",
    "outputId": "a93d7325-e276-4825-c3a2-b8a15c72e476"
   },
   "outputs": [
    {
     "data": {
      "text/html": [
       "<div>\n",
       "<style scoped>\n",
       "    .dataframe tbody tr th:only-of-type {\n",
       "        vertical-align: middle;\n",
       "    }\n",
       "\n",
       "    .dataframe tbody tr th {\n",
       "        vertical-align: top;\n",
       "    }\n",
       "\n",
       "    .dataframe thead th {\n",
       "        text-align: right;\n",
       "    }\n",
       "</style>\n",
       "<table border=\"1\" class=\"dataframe\">\n",
       "  <thead>\n",
       "    <tr style=\"text-align: right;\">\n",
       "      <th></th>\n",
       "      <th>MinTemp</th>\n",
       "      <th>MaxTemp</th>\n",
       "      <th>Rainfall</th>\n",
       "      <th>Evaporation</th>\n",
       "      <th>Sunshine</th>\n",
       "      <th>WindGustSpeed</th>\n",
       "      <th>WindSpeed</th>\n",
       "      <th>Humidity</th>\n",
       "      <th>Pressure</th>\n",
       "      <th>Cloud</th>\n",
       "      <th>Temp</th>\n",
       "    </tr>\n",
       "  </thead>\n",
       "  <tbody>\n",
       "    <tr>\n",
       "      <th>count</th>\n",
       "      <td>51694.000000</td>\n",
       "      <td>51849.000000</td>\n",
       "      <td>51231.000000</td>\n",
       "      <td>29425.000000</td>\n",
       "      <td>27103.000000</td>\n",
       "      <td>48407.000000</td>\n",
       "      <td>50954.000000</td>\n",
       "      <td>50549.000000</td>\n",
       "      <td>46912.000000</td>\n",
       "      <td>31848.000000</td>\n",
       "      <td>50915.000000</td>\n",
       "    </tr>\n",
       "    <tr>\n",
       "      <th>mean</th>\n",
       "      <td>12.549174</td>\n",
       "      <td>22.512698</td>\n",
       "      <td>3.639494</td>\n",
       "      <td>5.177570</td>\n",
       "      <td>6.530580</td>\n",
       "      <td>42.003016</td>\n",
       "      <td>19.092299</td>\n",
       "      <td>57.432214</td>\n",
       "      <td>1014.273338</td>\n",
       "      <td>5.175647</td>\n",
       "      <td>20.845623</td>\n",
       "    </tr>\n",
       "    <tr>\n",
       "      <th>std</th>\n",
       "      <td>6.376746</td>\n",
       "      <td>7.113064</td>\n",
       "      <td>11.009628</td>\n",
       "      <td>4.017662</td>\n",
       "      <td>3.946561</td>\n",
       "      <td>14.627024</td>\n",
       "      <td>9.157505</td>\n",
       "      <td>21.833045</td>\n",
       "      <td>7.278733</td>\n",
       "      <td>2.632166</td>\n",
       "      <td>6.938471</td>\n",
       "    </tr>\n",
       "    <tr>\n",
       "      <th>min</th>\n",
       "      <td>-8.000000</td>\n",
       "      <td>-4.100000</td>\n",
       "      <td>0.000000</td>\n",
       "      <td>0.000000</td>\n",
       "      <td>0.000000</td>\n",
       "      <td>7.000000</td>\n",
       "      <td>0.000000</td>\n",
       "      <td>1.000000</td>\n",
       "      <td>977.100000</td>\n",
       "      <td>0.000000</td>\n",
       "      <td>-4.400000</td>\n",
       "    </tr>\n",
       "    <tr>\n",
       "      <th>25%</th>\n",
       "      <td>7.900000</td>\n",
       "      <td>17.200000</td>\n",
       "      <td>0.000000</td>\n",
       "      <td>2.400000</td>\n",
       "      <td>3.200000</td>\n",
       "      <td>31.000000</td>\n",
       "      <td>13.000000</td>\n",
       "      <td>42.000000</td>\n",
       "      <td>1009.300000</td>\n",
       "      <td>3.000000</td>\n",
       "      <td>15.700000</td>\n",
       "    </tr>\n",
       "    <tr>\n",
       "      <th>50%</th>\n",
       "      <td>12.300000</td>\n",
       "      <td>21.800000</td>\n",
       "      <td>0.000000</td>\n",
       "      <td>4.400000</td>\n",
       "      <td>6.900000</td>\n",
       "      <td>39.000000</td>\n",
       "      <td>19.000000</td>\n",
       "      <td>58.000000</td>\n",
       "      <td>1014.200000</td>\n",
       "      <td>6.000000</td>\n",
       "      <td>20.200000</td>\n",
       "    </tr>\n",
       "    <tr>\n",
       "      <th>75%</th>\n",
       "      <td>17.200000</td>\n",
       "      <td>27.500000</td>\n",
       "      <td>2.200000</td>\n",
       "      <td>7.000000</td>\n",
       "      <td>9.900000</td>\n",
       "      <td>50.000000</td>\n",
       "      <td>24.000000</td>\n",
       "      <td>73.000000</td>\n",
       "      <td>1019.200000</td>\n",
       "      <td>7.000000</td>\n",
       "      <td>25.600000</td>\n",
       "    </tr>\n",
       "    <tr>\n",
       "      <th>max</th>\n",
       "      <td>31.400000</td>\n",
       "      <td>47.000000</td>\n",
       "      <td>371.000000</td>\n",
       "      <td>77.300000</td>\n",
       "      <td>14.500000</td>\n",
       "      <td>135.000000</td>\n",
       "      <td>83.000000</td>\n",
       "      <td>100.000000</td>\n",
       "      <td>1037.800000</td>\n",
       "      <td>8.000000</td>\n",
       "      <td>46.100000</td>\n",
       "    </tr>\n",
       "  </tbody>\n",
       "</table>\n",
       "</div>"
      ],
      "text/plain": [
       "            MinTemp       MaxTemp      Rainfall   Evaporation      Sunshine  \\\n",
       "count  51694.000000  51849.000000  51231.000000  29425.000000  27103.000000   \n",
       "mean      12.549174     22.512698      3.639494      5.177570      6.530580   \n",
       "std        6.376746      7.113064     11.009628      4.017662      3.946561   \n",
       "min       -8.000000     -4.100000      0.000000      0.000000      0.000000   \n",
       "25%        7.900000     17.200000      0.000000      2.400000      3.200000   \n",
       "50%       12.300000     21.800000      0.000000      4.400000      6.900000   \n",
       "75%       17.200000     27.500000      2.200000      7.000000      9.900000   \n",
       "max       31.400000     47.000000    371.000000     77.300000     14.500000   \n",
       "\n",
       "       WindGustSpeed     WindSpeed      Humidity      Pressure         Cloud  \\\n",
       "count   48407.000000  50954.000000  50549.000000  46912.000000  31848.000000   \n",
       "mean       42.003016     19.092299     57.432214   1014.273338      5.175647   \n",
       "std        14.627024      9.157505     21.833045      7.278733      2.632166   \n",
       "min         7.000000      0.000000      1.000000    977.100000      0.000000   \n",
       "25%        31.000000     13.000000     42.000000   1009.300000      3.000000   \n",
       "50%        39.000000     19.000000     58.000000   1014.200000      6.000000   \n",
       "75%        50.000000     24.000000     73.000000   1019.200000      7.000000   \n",
       "max       135.000000     83.000000    100.000000   1037.800000      8.000000   \n",
       "\n",
       "               Temp  \n",
       "count  50915.000000  \n",
       "mean      20.845623  \n",
       "std        6.938471  \n",
       "min       -4.400000  \n",
       "25%       15.700000  \n",
       "50%       20.200000  \n",
       "75%       25.600000  \n",
       "max       46.100000  "
      ]
     },
     "execution_count": 8,
     "metadata": {},
     "output_type": "execute_result"
    }
   ],
   "source": [
    "df_train.describe()"
   ]
  },
  {
   "cell_type": "code",
   "execution_count": 9,
   "metadata": {
    "colab": {
     "base_uri": "https://localhost:8080/",
     "height": 343
    },
    "colab_type": "code",
    "id": "_8FIzQ3vi_Mi",
    "outputId": "e3c44165-8002-45a1-d6f9-4bd5b1c5ffe8"
   },
   "outputs": [
    {
     "data": {
      "text/html": [
       "<div>\n",
       "<style scoped>\n",
       "    .dataframe tbody tr th:only-of-type {\n",
       "        vertical-align: middle;\n",
       "    }\n",
       "\n",
       "    .dataframe tbody tr th {\n",
       "        vertical-align: top;\n",
       "    }\n",
       "\n",
       "    .dataframe thead th {\n",
       "        text-align: right;\n",
       "    }\n",
       "</style>\n",
       "<table border=\"1\" class=\"dataframe\">\n",
       "  <thead>\n",
       "    <tr style=\"text-align: right;\">\n",
       "      <th></th>\n",
       "      <th>Location</th>\n",
       "      <th>MinTemp</th>\n",
       "      <th>MaxTemp</th>\n",
       "      <th>Rainfall</th>\n",
       "      <th>Evaporation</th>\n",
       "      <th>Sunshine</th>\n",
       "      <th>WindGustDir</th>\n",
       "      <th>WindGustSpeed</th>\n",
       "      <th>WindDir</th>\n",
       "      <th>WindSpeed</th>\n",
       "      <th>Humidity</th>\n",
       "      <th>Pressure</th>\n",
       "      <th>Cloud</th>\n",
       "      <th>Temp</th>\n",
       "      <th>RainToday</th>\n",
       "      <th>RainTomorrow</th>\n",
       "    </tr>\n",
       "  </thead>\n",
       "  <tbody>\n",
       "    <tr>\n",
       "      <th>0</th>\n",
       "      <td>NorahHead</td>\n",
       "      <td>18.9</td>\n",
       "      <td>23.7</td>\n",
       "      <td>0.0</td>\n",
       "      <td>NaN</td>\n",
       "      <td>NaN</td>\n",
       "      <td>SSE</td>\n",
       "      <td>41.0</td>\n",
       "      <td>SSE</td>\n",
       "      <td>28.0</td>\n",
       "      <td>55.0</td>\n",
       "      <td>1026.0</td>\n",
       "      <td>NaN</td>\n",
       "      <td>22.4</td>\n",
       "      <td>No</td>\n",
       "      <td>Yes</td>\n",
       "    </tr>\n",
       "    <tr>\n",
       "      <th>1</th>\n",
       "      <td>Nuriootpa</td>\n",
       "      <td>11.1</td>\n",
       "      <td>20.8</td>\n",
       "      <td>0.0</td>\n",
       "      <td>4.8</td>\n",
       "      <td>8.3</td>\n",
       "      <td>W</td>\n",
       "      <td>39.0</td>\n",
       "      <td>WSW</td>\n",
       "      <td>26.0</td>\n",
       "      <td>48.0</td>\n",
       "      <td>1014.4</td>\n",
       "      <td>7.0</td>\n",
       "      <td>19.5</td>\n",
       "      <td>No</td>\n",
       "      <td>No</td>\n",
       "    </tr>\n",
       "    <tr>\n",
       "      <th>2</th>\n",
       "      <td>GoldCoast</td>\n",
       "      <td>15.9</td>\n",
       "      <td>19.5</td>\n",
       "      <td>17.6</td>\n",
       "      <td>NaN</td>\n",
       "      <td>NaN</td>\n",
       "      <td>SE</td>\n",
       "      <td>44.0</td>\n",
       "      <td>SW</td>\n",
       "      <td>9.0</td>\n",
       "      <td>99.0</td>\n",
       "      <td>1028.5</td>\n",
       "      <td>NaN</td>\n",
       "      <td>17.8</td>\n",
       "      <td>Yes</td>\n",
       "      <td>Yes</td>\n",
       "    </tr>\n",
       "    <tr>\n",
       "      <th>3</th>\n",
       "      <td>Bendigo</td>\n",
       "      <td>0.0</td>\n",
       "      <td>14.9</td>\n",
       "      <td>0.0</td>\n",
       "      <td>NaN</td>\n",
       "      <td>NaN</td>\n",
       "      <td>WSW</td>\n",
       "      <td>35.0</td>\n",
       "      <td>WNW</td>\n",
       "      <td>19.0</td>\n",
       "      <td>55.0</td>\n",
       "      <td>1023.0</td>\n",
       "      <td>4.0</td>\n",
       "      <td>14.2</td>\n",
       "      <td>No</td>\n",
       "      <td>Yes</td>\n",
       "    </tr>\n",
       "    <tr>\n",
       "      <th>4</th>\n",
       "      <td>Walpole</td>\n",
       "      <td>9.1</td>\n",
       "      <td>22.7</td>\n",
       "      <td>0.0</td>\n",
       "      <td>NaN</td>\n",
       "      <td>NaN</td>\n",
       "      <td>NNE</td>\n",
       "      <td>41.0</td>\n",
       "      <td>ESE</td>\n",
       "      <td>7.0</td>\n",
       "      <td>40.0</td>\n",
       "      <td>1027.1</td>\n",
       "      <td>NaN</td>\n",
       "      <td>22.5</td>\n",
       "      <td>No</td>\n",
       "      <td>No</td>\n",
       "    </tr>\n",
       "    <tr>\n",
       "      <th>5</th>\n",
       "      <td>MelbourneAirport</td>\n",
       "      <td>6.6</td>\n",
       "      <td>16.3</td>\n",
       "      <td>8.4</td>\n",
       "      <td>3.4</td>\n",
       "      <td>6.9</td>\n",
       "      <td>S</td>\n",
       "      <td>50.0</td>\n",
       "      <td>S</td>\n",
       "      <td>30.0</td>\n",
       "      <td>55.0</td>\n",
       "      <td>1021.4</td>\n",
       "      <td>7.0</td>\n",
       "      <td>14.6</td>\n",
       "      <td>Yes</td>\n",
       "      <td>No</td>\n",
       "    </tr>\n",
       "    <tr>\n",
       "      <th>6</th>\n",
       "      <td>Mildura</td>\n",
       "      <td>9.7</td>\n",
       "      <td>20.6</td>\n",
       "      <td>0.0</td>\n",
       "      <td>1.0</td>\n",
       "      <td>4.2</td>\n",
       "      <td>WNW</td>\n",
       "      <td>61.0</td>\n",
       "      <td>NW</td>\n",
       "      <td>20.0</td>\n",
       "      <td>35.0</td>\n",
       "      <td>1015.8</td>\n",
       "      <td>7.0</td>\n",
       "      <td>19.5</td>\n",
       "      <td>No</td>\n",
       "      <td>No</td>\n",
       "    </tr>\n",
       "    <tr>\n",
       "      <th>7</th>\n",
       "      <td>Williamtown</td>\n",
       "      <td>17.1</td>\n",
       "      <td>21.9</td>\n",
       "      <td>134.8</td>\n",
       "      <td>NaN</td>\n",
       "      <td>0.0</td>\n",
       "      <td>SSE</td>\n",
       "      <td>54.0</td>\n",
       "      <td>SSE</td>\n",
       "      <td>28.0</td>\n",
       "      <td>99.0</td>\n",
       "      <td>1012.0</td>\n",
       "      <td>8.0</td>\n",
       "      <td>17.9</td>\n",
       "      <td>Yes</td>\n",
       "      <td>Yes</td>\n",
       "    </tr>\n",
       "    <tr>\n",
       "      <th>8</th>\n",
       "      <td>Watsonia</td>\n",
       "      <td>13.5</td>\n",
       "      <td>23.5</td>\n",
       "      <td>0.0</td>\n",
       "      <td>6.8</td>\n",
       "      <td>6.5</td>\n",
       "      <td>NW</td>\n",
       "      <td>46.0</td>\n",
       "      <td>NE</td>\n",
       "      <td>19.0</td>\n",
       "      <td>53.0</td>\n",
       "      <td>1018.2</td>\n",
       "      <td>6.0</td>\n",
       "      <td>22.2</td>\n",
       "      <td>No</td>\n",
       "      <td>Yes</td>\n",
       "    </tr>\n",
       "    <tr>\n",
       "      <th>9</th>\n",
       "      <td>Nhil</td>\n",
       "      <td>12.5</td>\n",
       "      <td>21.3</td>\n",
       "      <td>0.0</td>\n",
       "      <td>NaN</td>\n",
       "      <td>NaN</td>\n",
       "      <td>W</td>\n",
       "      <td>65.0</td>\n",
       "      <td>W</td>\n",
       "      <td>22.0</td>\n",
       "      <td>82.0</td>\n",
       "      <td>1002.6</td>\n",
       "      <td>NaN</td>\n",
       "      <td>13.1</td>\n",
       "      <td>No</td>\n",
       "      <td>Yes</td>\n",
       "    </tr>\n",
       "  </tbody>\n",
       "</table>\n",
       "</div>"
      ],
      "text/plain": [
       "           Location  MinTemp  MaxTemp  Rainfall  Evaporation  Sunshine  \\\n",
       "0         NorahHead     18.9     23.7       0.0          NaN       NaN   \n",
       "1         Nuriootpa     11.1     20.8       0.0          4.8       8.3   \n",
       "2         GoldCoast     15.9     19.5      17.6          NaN       NaN   \n",
       "3           Bendigo      0.0     14.9       0.0          NaN       NaN   \n",
       "4           Walpole      9.1     22.7       0.0          NaN       NaN   \n",
       "5  MelbourneAirport      6.6     16.3       8.4          3.4       6.9   \n",
       "6           Mildura      9.7     20.6       0.0          1.0       4.2   \n",
       "7       Williamtown     17.1     21.9     134.8          NaN       0.0   \n",
       "8          Watsonia     13.5     23.5       0.0          6.8       6.5   \n",
       "9              Nhil     12.5     21.3       0.0          NaN       NaN   \n",
       "\n",
       "  WindGustDir  WindGustSpeed WindDir  WindSpeed  Humidity  Pressure  Cloud  \\\n",
       "0         SSE           41.0     SSE       28.0      55.0    1026.0    NaN   \n",
       "1           W           39.0     WSW       26.0      48.0    1014.4    7.0   \n",
       "2          SE           44.0      SW        9.0      99.0    1028.5    NaN   \n",
       "3         WSW           35.0     WNW       19.0      55.0    1023.0    4.0   \n",
       "4         NNE           41.0     ESE        7.0      40.0    1027.1    NaN   \n",
       "5           S           50.0       S       30.0      55.0    1021.4    7.0   \n",
       "6         WNW           61.0      NW       20.0      35.0    1015.8    7.0   \n",
       "7         SSE           54.0     SSE       28.0      99.0    1012.0    8.0   \n",
       "8          NW           46.0      NE       19.0      53.0    1018.2    6.0   \n",
       "9           W           65.0       W       22.0      82.0    1002.6    NaN   \n",
       "\n",
       "   Temp RainToday RainTomorrow  \n",
       "0  22.4        No          Yes  \n",
       "1  19.5        No           No  \n",
       "2  17.8       Yes          Yes  \n",
       "3  14.2        No          Yes  \n",
       "4  22.5        No           No  \n",
       "5  14.6       Yes           No  \n",
       "6  19.5        No           No  \n",
       "7  17.9       Yes          Yes  \n",
       "8  22.2        No          Yes  \n",
       "9  13.1        No          Yes  "
      ]
     },
     "execution_count": 9,
     "metadata": {},
     "output_type": "execute_result"
    }
   ],
   "source": [
    "df_train.head(10)"
   ]
  },
  {
   "cell_type": "code",
   "execution_count": 5,
   "metadata": {
    "colab": {
     "base_uri": "https://localhost:8080/",
     "height": 302
    },
    "colab_type": "code",
    "id": "zk0z5Ee6i_Ml",
    "outputId": "99398faf-a540-4a96-e53e-a5f8c0c8149d"
   },
   "outputs": [
    {
     "data": {
      "text/plain": [
       "Location             0\n",
       "MinTemp            284\n",
       "MaxTemp            129\n",
       "Rainfall           747\n",
       "Evaporation      22553\n",
       "Sunshine         24875\n",
       "WindGustDir       3598\n",
       "WindGustSpeed     3571\n",
       "WindDir           1513\n",
       "WindSpeed         1024\n",
       "Humidity          1429\n",
       "Pressure          5066\n",
       "Cloud            20130\n",
       "Temp              1063\n",
       "RainToday          747\n",
       "RainTomorrow         0\n",
       "dtype: int64"
      ]
     },
     "execution_count": 5,
     "metadata": {},
     "output_type": "execute_result"
    }
   ],
   "source": [
    "df_train.isna().sum()"
   ]
  },
  {
   "cell_type": "code",
   "execution_count": 6,
   "metadata": {
    "colab": {
     "base_uri": "https://localhost:8080/",
     "height": 302
    },
    "colab_type": "code",
    "id": "uOvcn2Fdi_Mn",
    "outputId": "40e3fc3c-ce21-46a8-a660-6eaeac591394"
   },
   "outputs": [
    {
     "data": {
      "text/plain": [
       "ID                  0\n",
       "Location            0\n",
       "MinTemp            47\n",
       "MaxTemp            18\n",
       "Rainfall          161\n",
       "Evaporation      5516\n",
       "Sunshine         6094\n",
       "WindGustDir       929\n",
       "WindGustSpeed     920\n",
       "WindDir           387\n",
       "WindSpeed         261\n",
       "Humidity          349\n",
       "Pressure         1293\n",
       "Cloud            5020\n",
       "Temp              267\n",
       "RainToday         161\n",
       "dtype: int64"
      ]
     },
     "execution_count": 6,
     "metadata": {},
     "output_type": "execute_result"
    }
   ],
   "source": [
    "df_test.isna().sum()"
   ]
  },
  {
   "cell_type": "markdown",
   "metadata": {
    "colab_type": "text",
    "id": "cBJUe1AJ0o2v"
   },
   "source": [
    "### Handling issues with data quality:\n",
    "\n",
    "#### We can see from above result that we have a lot of missing data.\n",
    "#### To deal with numerical missing data, I have grouped each field based on its location and replaced values accordingly. \n",
    "#### If there does not exist any value for a particular location, then I replaced the corresponding field with mean of the whole column."
   ]
  },
  {
   "cell_type": "code",
   "execution_count": 7,
   "metadata": {
    "colab": {},
    "colab_type": "code",
    "id": "tqTnVVEDi_Mq"
   },
   "outputs": [],
   "source": [
    "def cleanNumericalData(df):\n",
    "    for column in df:\n",
    "        if df[column].dtypes != 'object':\n",
    "            overallMean = df[column].mean()\n",
    "            df[column] = df.groupby(\"Location\")[column].transform(lambda a: a.fillna(overallMean) if np.isnan(a.mean()) else a.fillna(a.mean()))"
   ]
  },
  {
   "cell_type": "code",
   "execution_count": 8,
   "metadata": {
    "colab": {},
    "colab_type": "code",
    "id": "qiAL508di_Ms"
   },
   "outputs": [],
   "source": [
    "cleanNumericalData(df_train)"
   ]
  },
  {
   "cell_type": "code",
   "execution_count": 9,
   "metadata": {
    "colab": {
     "base_uri": "https://localhost:8080/",
     "height": 302
    },
    "colab_type": "code",
    "id": "-A5Yne-Hi_Mu",
    "outputId": "527a7aa8-62e2-442a-b457-a7e2e5c7505a"
   },
   "outputs": [
    {
     "data": {
      "text/plain": [
       "Location            0\n",
       "MinTemp             0\n",
       "MaxTemp             0\n",
       "Rainfall            0\n",
       "Evaporation         0\n",
       "Sunshine            0\n",
       "WindGustDir      3598\n",
       "WindGustSpeed       0\n",
       "WindDir          1513\n",
       "WindSpeed           0\n",
       "Humidity            0\n",
       "Pressure            0\n",
       "Cloud               0\n",
       "Temp                0\n",
       "RainToday         747\n",
       "RainTomorrow        0\n",
       "dtype: int64"
      ]
     },
     "execution_count": 9,
     "metadata": {},
     "output_type": "execute_result"
    }
   ],
   "source": [
    "df_train.isna().sum()"
   ]
  },
  {
   "cell_type": "code",
   "execution_count": 10,
   "metadata": {
    "colab": {},
    "colab_type": "code",
    "id": "2KizUOdYi_Mw"
   },
   "outputs": [],
   "source": [
    "cleanNumericalData(df_test)"
   ]
  },
  {
   "cell_type": "code",
   "execution_count": 11,
   "metadata": {
    "colab": {
     "base_uri": "https://localhost:8080/",
     "height": 302
    },
    "colab_type": "code",
    "id": "iH_d6rybi_Mz",
    "outputId": "6851daec-dfa5-4853-d929-c43adc7b44a5"
   },
   "outputs": [
    {
     "data": {
      "text/plain": [
       "ID                 0\n",
       "Location           0\n",
       "MinTemp            0\n",
       "MaxTemp            0\n",
       "Rainfall           0\n",
       "Evaporation        0\n",
       "Sunshine           0\n",
       "WindGustDir      929\n",
       "WindGustSpeed      0\n",
       "WindDir          387\n",
       "WindSpeed          0\n",
       "Humidity           0\n",
       "Pressure           0\n",
       "Cloud              0\n",
       "Temp               0\n",
       "RainToday        161\n",
       "dtype: int64"
      ]
     },
     "execution_count": 11,
     "metadata": {},
     "output_type": "execute_result"
    }
   ],
   "source": [
    "df_test.isna().sum()"
   ]
  },
  {
   "cell_type": "markdown",
   "metadata": {
    "colab_type": "text",
    "id": "_YoL0ixS1cJh"
   },
   "source": [
    "#### We can observe from above result that we don't have any other missing numerical data.\n",
    "\n",
    "#### Let us explore each of the numerical attributes before proceeding to clean categorical data."
   ]
  },
  {
   "cell_type": "code",
   "execution_count": 12,
   "metadata": {
    "colab": {
     "base_uri": "https://localhost:8080/",
     "height": 296
    },
    "colab_type": "code",
    "id": "iSR5_PdBi_M3",
    "outputId": "3e369926-176d-4436-d326-9d81a77c8f54"
   },
   "outputs": [
    {
     "data": {
      "text/plain": [
       "<AxesSubplot:xlabel='MinTemp'>"
      ]
     },
     "execution_count": 12,
     "metadata": {},
     "output_type": "execute_result"
    },
    {
     "data": {
      "image/png": "[encoded data removed]",
      "text/plain": [
       "<Figure size 432x288 with 1 Axes>"
      ]
     },
     "metadata": {
      "needs_background": "light"
     },
     "output_type": "display_data"
    }
   ],
   "source": [
    "import seaborn as sns\n",
    "sns.distplot(df_train['MinTemp'])"
   ]
  },
  {
   "cell_type": "markdown",
   "metadata": {
    "colab_type": "text",
    "id": "R5-KHMaM1ziB"
   },
   "source": [
    "#### Create bins to get a better visualization!"
   ]
  },
  {
   "cell_type": "code",
   "execution_count": 17,
   "metadata": {
    "colab": {
     "base_uri": "https://localhost:8080/",
     "height": 297
    },
    "colab_type": "code",
    "id": "igvo1X4vi_M5",
    "outputId": "dd8adaf5-ad14-41ee-ec03-92f31dbe26e6"
   },
   "outputs": [
    {
     "data": {
      "text/plain": [
       "<AxesSubplot:xlabel='Minimum Temperature'>"
      ]
     },
     "execution_count": 17,
     "metadata": {},
     "output_type": "execute_result"
    },
    {
     "data": {
      "image/png": "[encoded data removed]",
      "text/plain": [
       "<Figure size 432x288 with 1 Axes>"
      ]
     },
     "metadata": {
      "needs_background": "light"
     },
     "output_type": "display_data"
    }
   ],
   "source": [
    "sns.distplot(df_train['MinTemp'], axlabel=\"Minimum Temperature\",bins=10)"
   ]
  },
  {
   "cell_type": "code",
   "execution_count": 18,
   "metadata": {
    "colab": {
     "base_uri": "https://localhost:8080/",
     "height": 296
    },
    "colab_type": "code",
    "id": "lkxJEzTNi_M-",
    "outputId": "89b42335-c447-491b-a129-2db312add970"
   },
   "outputs": [
    {
     "data": {
      "text/plain": [
       "<AxesSubplot:xlabel='Maximum Temperature'>"
      ]
     },
     "execution_count": 18,
     "metadata": {},
     "output_type": "execute_result"
    },
    {
     "data": {
      "image/png": "[encoded data removed]",
      "text/plain": [
       "<Figure size 432x288 with 1 Axes>"
      ]
     },
     "metadata": {
      "needs_background": "light"
     },
     "output_type": "display_data"
    }
   ],
   "source": [
    "sns.distplot(df_train['MaxTemp'], axlabel=\"Maximum Temperature\", bins=10)"
   ]
  },
  {
   "cell_type": "code",
   "execution_count": 19,
   "metadata": {
    "colab": {
     "base_uri": "https://localhost:8080/",
     "height": 296
    },
    "colab_type": "code",
    "id": "8TnTrlCDi_NB",
    "outputId": "1d59f13c-a85d-4333-ac6b-5003e83824d0"
   },
   "outputs": [
    {
     "data": {
      "text/plain": [
       "<AxesSubplot:xlabel='Rainfall (mm)'>"
      ]
     },
     "execution_count": 19,
     "metadata": {},
     "output_type": "execute_result"
    },
    {
     "data": {
      "image/png": "[encoded data removed]",
      "text/plain": [
       "<Figure size 432x288 with 1 Axes>"
      ]
     },
     "metadata": {
      "needs_background": "light"
     },
     "output_type": "display_data"
    }
   ],
   "source": [
    "sns.distplot(df_train['Rainfall'], axlabel=\"Rainfall (mm)\", bins=12)"
   ]
  },
  {
   "cell_type": "code",
   "execution_count": 20,
   "metadata": {
    "colab": {
     "base_uri": "https://localhost:8080/",
     "height": 296
    },
    "colab_type": "code",
    "id": "M6AwGg0ai_ND",
    "outputId": "452a07dc-c4da-424e-cbe2-1e525be66ce8"
   },
   "outputs": [
    {
     "data": {
      "text/plain": [
       "<AxesSubplot:xlabel='Evaporation (mm)'>"
      ]
     },
     "execution_count": 20,
     "metadata": {},
     "output_type": "execute_result"
    },
    {
     "data": {
      "image/png": "[encoded data removed]",
      "text/plain": [
       "<Figure size 432x288 with 1 Axes>"
      ]
     },
     "metadata": {
      "needs_background": "light"
     },
     "output_type": "display_data"
    }
   ],
   "source": [
    "sns.distplot(df_train['Evaporation'], axlabel=\"Evaporation (mm)\", bins=10)"
   ]
  },
  {
   "cell_type": "code",
   "execution_count": 21,
   "metadata": {
    "colab": {
     "base_uri": "https://localhost:8080/",
     "height": 296
    },
    "colab_type": "code",
    "id": "Ho2onvMti_NF",
    "outputId": "4350dd11-b991-4316-a0cb-72bbbb191501"
   },
   "outputs": [
    {
     "data": {
      "text/plain": [
       "<AxesSubplot:xlabel='Sunshine (hours)'>"
      ]
     },
     "execution_count": 21,
     "metadata": {},
     "output_type": "execute_result"
    },
    {
     "data": {
      "image/png": "[encoded data removed]",
      "text/plain": [
       "<Figure size 432x288 with 1 Axes>"
      ]
     },
     "metadata": {
      "needs_background": "light"
     },
     "output_type": "display_data"
    }
   ],
   "source": [
    "sns.distplot(df_train['Sunshine'], axlabel=\"Sunshine (hours)\", bins=10)"
   ]
  },
  {
   "cell_type": "code",
   "execution_count": 22,
   "metadata": {
    "colab": {
     "base_uri": "https://localhost:8080/",
     "height": 296
    },
    "colab_type": "code",
    "id": "dusdwYewi_NI",
    "outputId": "a953a365-0022-4f79-cfe6-55a37ed90c41"
   },
   "outputs": [
    {
     "data": {
      "text/plain": [
       "<AxesSubplot:xlabel='WindGustSpeed (km/hr)'>"
      ]
     },
     "execution_count": 22,
     "metadata": {},
     "output_type": "execute_result"
    },
    {
     "data": {
      "image/png": "[encoded data removed]",
      "text/plain": [
       "<Figure size 432x288 with 1 Axes>"
      ]
     },
     "metadata": {
      "needs_background": "light"
     },
     "output_type": "display_data"
    }
   ],
   "source": [
    "sns.distplot(df_train['WindGustSpeed'], axlabel=\"WindGustSpeed (km/hr)\", bins=10)"
   ]
  },
  {
   "cell_type": "code",
   "execution_count": 23,
   "metadata": {
    "colab": {
     "base_uri": "https://localhost:8080/",
     "height": 296
    },
    "colab_type": "code",
    "id": "BaTloDb1i_NL",
    "outputId": "8267be84-a4a9-4712-dd97-bdc6e4cafe68"
   },
   "outputs": [
    {
     "data": {
      "text/plain": [
       "<AxesSubplot:xlabel='WindSpeed (km/hr)'>"
      ]
     },
     "execution_count": 23,
     "metadata": {},
     "output_type": "execute_result"
    },
    {
     "data": {
      "image/png": "[encoded data removed]",
      "text/plain": [
       "<Figure size 432x288 with 1 Axes>"
      ]
     },
     "metadata": {
      "needs_background": "light"
     },
     "output_type": "display_data"
    }
   ],
   "source": [
    "sns.distplot(df_train['WindSpeed'], axlabel=\"WindSpeed (km/hr)\", bins=10)"
   ]
  },
  {
   "cell_type": "code",
   "execution_count": 24,
   "metadata": {
    "colab": {
     "base_uri": "https://localhost:8080/",
     "height": 296
    },
    "colab_type": "code",
    "id": "B_9z62lDi_NN",
    "outputId": "ddf7f768-b524-4d43-8849-7a1102cc3b8d"
   },
   "outputs": [
    {
     "data": {
      "text/plain": [
       "<AxesSubplot:xlabel='Humidity (%)'>"
      ]
     },
     "execution_count": 24,
     "metadata": {},
     "output_type": "execute_result"
    },
    {
     "data": {
      "image/png": "[encoded data removed]",
      "text/plain": [
       "<Figure size 432x288 with 1 Axes>"
      ]
     },
     "metadata": {
      "needs_background": "light"
     },
     "output_type": "display_data"
    }
   ],
   "source": [
    "sns.distplot(df_train['Humidity'], axlabel=\"Humidity (%)\", bins=10)"
   ]
  },
  {
   "cell_type": "code",
   "execution_count": 25,
   "metadata": {
    "colab": {
     "base_uri": "https://localhost:8080/",
     "height": 296
    },
    "colab_type": "code",
    "id": "nYtq6Zdzi_NQ",
    "outputId": "6139a915-9174-4419-b8fa-7b17d5ea9b1f"
   },
   "outputs": [
    {
     "data": {
      "text/plain": [
       "<AxesSubplot:xlabel='Atmospheric Pressure (hpa)'>"
      ]
     },
     "execution_count": 25,
     "metadata": {},
     "output_type": "execute_result"
    },
    {
     "data": {
      "image/png": "[encoded data removed]",
      "text/plain": [
       "<Figure size 432x288 with 1 Axes>"
      ]
     },
     "metadata": {
      "needs_background": "light"
     },
     "output_type": "display_data"
    }
   ],
   "source": [
    "sns.distplot(df_train['Pressure'], axlabel=\"Atmospheric Pressure (hpa)\", bins=10)"
   ]
  },
  {
   "cell_type": "code",
   "execution_count": 26,
   "metadata": {
    "colab": {
     "base_uri": "https://localhost:8080/",
     "height": 300
    },
    "colab_type": "code",
    "id": "43omHlGti_NS",
    "outputId": "3657352f-c195-467e-9af8-e1b7657a791a"
   },
   "outputs": [
    {
     "data": {
      "text/plain": [
       "<AxesSubplot:xlabel='Cloud (oktas)'>"
      ]
     },
     "execution_count": 26,
     "metadata": {},
     "output_type": "execute_result"
    },
    {
     "data": {
      "image/png": "[encoded data removed]",
      "text/plain": [
       "<Figure size 432x288 with 1 Axes>"
      ]
     },
     "metadata": {
      "needs_background": "light"
     },
     "output_type": "display_data"
    }
   ],
   "source": [
    "sns.distplot(df_train['Cloud'], axlabel=\"Cloud (oktas)\", bins=10)"
   ]
  },
  {
   "cell_type": "code",
   "execution_count": 27,
   "metadata": {
    "colab": {
     "base_uri": "https://localhost:8080/",
     "height": 296
    },
    "colab_type": "code",
    "id": "qrPfidOzi_NU",
    "outputId": "0ffab63b-9c31-4f68-9c1f-d2e96b0975ce"
   },
   "outputs": [
    {
     "data": {
      "text/plain": [
       "<AxesSubplot:xlabel='Temperature (degree C)'>"
      ]
     },
     "execution_count": 27,
     "metadata": {},
     "output_type": "execute_result"
    },
    {
     "data": {
      "image/png": "[encoded data removed]",
      "text/plain": [
       "<Figure size 432x288 with 1 Axes>"
      ]
     },
     "metadata": {
      "needs_background": "light"
     },
     "output_type": "display_data"
    }
   ],
   "source": [
    "sns.distplot(df_train['Temp'], axlabel=\"Temperature (degree C)\", bins=10)"
   ]
  },
  {
   "cell_type": "markdown",
   "metadata": {
    "colab_type": "text",
    "id": "-8cBQBkO2Bu6"
   },
   "source": [
    "For categorical attributes, we have 12 distinct values in WindGustDir and WindDir individually. \n",
    "We could perform one hot encoding, but that would result in 24 additional columns. Thus, deleting categorical attributes for these 2 columns.\n",
    "For RainToday attribute, I am replacing the Nulls with mode RainToday value."
   ]
  },
  {
   "cell_type": "code",
   "execution_count": 13,
   "metadata": {
    "colab": {},
    "colab_type": "code",
    "id": "nCANIMLKi_NX"
   },
   "outputs": [],
   "source": [
    "df_train.drop(labels=['WindGustDir', 'WindDir'], axis=1, inplace=True)\n",
    "df_test.drop(labels=['WindGustDir', 'WindDir'], axis=1, inplace=True)"
   ]
  },
  {
   "cell_type": "code",
   "execution_count": 14,
   "metadata": {
    "colab": {},
    "colab_type": "code",
    "id": "3P8eUdiIi_NZ"
   },
   "outputs": [],
   "source": [
    "overallMode = df_train['RainToday'].mode()"
   ]
  },
  {
   "cell_type": "code",
   "execution_count": 15,
   "metadata": {
    "colab": {},
    "colab_type": "code",
    "id": "PfHoAutWi_Nc"
   },
   "outputs": [],
   "source": [
    "df_train['RainToday'] = df_train['RainToday'].fillna(overallMode[0])"
   ]
  },
  {
   "cell_type": "code",
   "execution_count": 16,
   "metadata": {
    "colab": {
     "base_uri": "https://localhost:8080/",
     "height": 269
    },
    "colab_type": "code",
    "id": "jFWDWYXTi_Ne",
    "outputId": "25ea5999-3a2e-4f53-e758-0880ed5cb0cd"
   },
   "outputs": [
    {
     "data": {
      "text/plain": [
       "Location         0\n",
       "MinTemp          0\n",
       "MaxTemp          0\n",
       "Rainfall         0\n",
       "Evaporation      0\n",
       "Sunshine         0\n",
       "WindGustSpeed    0\n",
       "WindSpeed        0\n",
       "Humidity         0\n",
       "Pressure         0\n",
       "Cloud            0\n",
       "Temp             0\n",
       "RainToday        0\n",
       "RainTomorrow     0\n",
       "dtype: int64"
      ]
     },
     "execution_count": 16,
     "metadata": {},
     "output_type": "execute_result"
    }
   ],
   "source": [
    "df_train.isna().sum()"
   ]
  },
  {
   "cell_type": "code",
   "execution_count": 17,
   "metadata": {
    "colab": {
     "base_uri": "https://localhost:8080/",
     "height": 269
    },
    "colab_type": "code",
    "id": "Vg5D6pZri_Ng",
    "outputId": "052050cd-64e4-4948-9889-98632008c9f3"
   },
   "outputs": [
    {
     "data": {
      "text/plain": [
       "ID                 0\n",
       "Location           0\n",
       "MinTemp            0\n",
       "MaxTemp            0\n",
       "Rainfall           0\n",
       "Evaporation        0\n",
       "Sunshine           0\n",
       "WindGustSpeed      0\n",
       "WindSpeed          0\n",
       "Humidity           0\n",
       "Pressure           0\n",
       "Cloud              0\n",
       "Temp               0\n",
       "RainToday        161\n",
       "dtype: int64"
      ]
     },
     "execution_count": 17,
     "metadata": {},
     "output_type": "execute_result"
    }
   ],
   "source": [
    "df_test.isna().sum()"
   ]
  },
  {
   "cell_type": "code",
   "execution_count": 18,
   "metadata": {
    "colab": {},
    "colab_type": "code",
    "id": "sSLt55qzi_Ni"
   },
   "outputs": [],
   "source": [
    "overallModeTest = df_test['RainToday'].mode()"
   ]
  },
  {
   "cell_type": "code",
   "execution_count": 19,
   "metadata": {
    "colab": {},
    "colab_type": "code",
    "id": "7c2hFqUCi_Nk"
   },
   "outputs": [],
   "source": [
    "df_test['RainToday'] = df_test['RainToday'].fillna(overallModeTest[0])"
   ]
  },
  {
   "cell_type": "code",
   "execution_count": 20,
   "metadata": {
    "colab": {
     "base_uri": "https://localhost:8080/",
     "height": 269
    },
    "colab_type": "code",
    "id": "xiLpXgJ9i_Nm",
    "outputId": "ebd15488-7231-45f4-aea6-f3fdbd634d0c"
   },
   "outputs": [
    {
     "data": {
      "text/plain": [
       "ID               0\n",
       "Location         0\n",
       "MinTemp          0\n",
       "MaxTemp          0\n",
       "Rainfall         0\n",
       "Evaporation      0\n",
       "Sunshine         0\n",
       "WindGustSpeed    0\n",
       "WindSpeed        0\n",
       "Humidity         0\n",
       "Pressure         0\n",
       "Cloud            0\n",
       "Temp             0\n",
       "RainToday        0\n",
       "dtype: int64"
      ]
     },
     "execution_count": 20,
     "metadata": {},
     "output_type": "execute_result"
    }
   ],
   "source": [
    "df_test.isna().sum()"
   ]
  },
  {
   "cell_type": "markdown",
   "metadata": {
    "colab_type": "text",
    "id": "kH9QnyEF3GEC"
   },
   "source": [
    "As seen from above result, all our missing values are handled.\n",
    "\n",
    "However, to perform clustering, we need numerical data, and so we need to convert attributes RainToday & RainTomorrow to numerical form. I used LabelBinarizer to do the above task - which converts Yes to 1 and No to 0.\n",
    "\n",
    "Also, since location is no more useful, we can drop location attribute."
   ]
  },
  {
   "cell_type": "code",
   "execution_count": 21,
   "metadata": {
    "colab": {
     "base_uri": "https://localhost:8080/",
     "height": 343
    },
    "colab_type": "code",
    "id": "2IXYTo4pi_No",
    "outputId": "267abcda-7e7a-40b0-a68a-921222a355a9"
   },
   "outputs": [
    {
     "data": {
      "text/html": [
       "<div>\n",
       "<style scoped>\n",
       "    .dataframe tbody tr th:only-of-type {\n",
       "        vertical-align: middle;\n",
       "    }\n",
       "\n",
       "    .dataframe tbody tr th {\n",
       "        vertical-align: top;\n",
       "    }\n",
       "\n",
       "    .dataframe thead th {\n",
       "        text-align: right;\n",
       "    }\n",
       "</style>\n",
       "<table border=\"1\" class=\"dataframe\">\n",
       "  <thead>\n",
       "    <tr style=\"text-align: right;\">\n",
       "      <th></th>\n",
       "      <th>Location</th>\n",
       "      <th>MinTemp</th>\n",
       "      <th>MaxTemp</th>\n",
       "      <th>Rainfall</th>\n",
       "      <th>Evaporation</th>\n",
       "      <th>Sunshine</th>\n",
       "      <th>WindGustSpeed</th>\n",
       "      <th>WindSpeed</th>\n",
       "      <th>Humidity</th>\n",
       "      <th>Pressure</th>\n",
       "      <th>Cloud</th>\n",
       "      <th>Temp</th>\n",
       "      <th>RainToday</th>\n",
       "      <th>RainTomorrow</th>\n",
       "    </tr>\n",
       "  </thead>\n",
       "  <tbody>\n",
       "    <tr>\n",
       "      <th>0</th>\n",
       "      <td>NorahHead</td>\n",
       "      <td>18.9</td>\n",
       "      <td>23.7</td>\n",
       "      <td>0.0</td>\n",
       "      <td>5.177570</td>\n",
       "      <td>6.53058</td>\n",
       "      <td>41.0</td>\n",
       "      <td>28.0</td>\n",
       "      <td>55.0</td>\n",
       "      <td>1026.0</td>\n",
       "      <td>5.175647</td>\n",
       "      <td>22.4</td>\n",
       "      <td>0</td>\n",
       "      <td>1</td>\n",
       "    </tr>\n",
       "    <tr>\n",
       "      <th>1</th>\n",
       "      <td>Nuriootpa</td>\n",
       "      <td>11.1</td>\n",
       "      <td>20.8</td>\n",
       "      <td>0.0</td>\n",
       "      <td>4.800000</td>\n",
       "      <td>8.30000</td>\n",
       "      <td>39.0</td>\n",
       "      <td>26.0</td>\n",
       "      <td>48.0</td>\n",
       "      <td>1014.4</td>\n",
       "      <td>7.000000</td>\n",
       "      <td>19.5</td>\n",
       "      <td>0</td>\n",
       "      <td>0</td>\n",
       "    </tr>\n",
       "    <tr>\n",
       "      <th>2</th>\n",
       "      <td>GoldCoast</td>\n",
       "      <td>15.9</td>\n",
       "      <td>19.5</td>\n",
       "      <td>17.6</td>\n",
       "      <td>5.177570</td>\n",
       "      <td>6.53058</td>\n",
       "      <td>44.0</td>\n",
       "      <td>9.0</td>\n",
       "      <td>99.0</td>\n",
       "      <td>1028.5</td>\n",
       "      <td>5.175647</td>\n",
       "      <td>17.8</td>\n",
       "      <td>1</td>\n",
       "      <td>1</td>\n",
       "    </tr>\n",
       "    <tr>\n",
       "      <th>3</th>\n",
       "      <td>Bendigo</td>\n",
       "      <td>0.0</td>\n",
       "      <td>14.9</td>\n",
       "      <td>0.0</td>\n",
       "      <td>3.697044</td>\n",
       "      <td>6.53058</td>\n",
       "      <td>35.0</td>\n",
       "      <td>19.0</td>\n",
       "      <td>55.0</td>\n",
       "      <td>1023.0</td>\n",
       "      <td>4.000000</td>\n",
       "      <td>14.2</td>\n",
       "      <td>0</td>\n",
       "      <td>1</td>\n",
       "    </tr>\n",
       "    <tr>\n",
       "      <th>4</th>\n",
       "      <td>Walpole</td>\n",
       "      <td>9.1</td>\n",
       "      <td>22.7</td>\n",
       "      <td>0.0</td>\n",
       "      <td>5.177570</td>\n",
       "      <td>6.53058</td>\n",
       "      <td>41.0</td>\n",
       "      <td>7.0</td>\n",
       "      <td>40.0</td>\n",
       "      <td>1027.1</td>\n",
       "      <td>5.175647</td>\n",
       "      <td>22.5</td>\n",
       "      <td>0</td>\n",
       "      <td>0</td>\n",
       "    </tr>\n",
       "  </tbody>\n",
       "</table>\n",
       "</div>"
      ],
      "text/plain": [
       "    Location  MinTemp  MaxTemp  Rainfall  Evaporation  Sunshine  \\\n",
       "0  NorahHead     18.9     23.7       0.0     5.177570   6.53058   \n",
       "1  Nuriootpa     11.1     20.8       0.0     4.800000   8.30000   \n",
       "2  GoldCoast     15.9     19.5      17.6     5.177570   6.53058   \n",
       "3    Bendigo      0.0     14.9       0.0     3.697044   6.53058   \n",
       "4    Walpole      9.1     22.7       0.0     5.177570   6.53058   \n",
       "\n",
       "   WindGustSpeed  WindSpeed  Humidity  Pressure     Cloud  Temp  RainToday  \\\n",
       "0           41.0       28.0      55.0    1026.0  5.175647  22.4          0   \n",
       "1           39.0       26.0      48.0    1014.4  7.000000  19.5          0   \n",
       "2           44.0        9.0      99.0    1028.5  5.175647  17.8          1   \n",
       "3           35.0       19.0      55.0    1023.0  4.000000  14.2          0   \n",
       "4           41.0        7.0      40.0    1027.1  5.175647  22.5          0   \n",
       "\n",
       "   RainTomorrow  \n",
       "0             1  \n",
       "1             0  \n",
       "2             1  \n",
       "3             1  \n",
       "4             0  "
      ]
     },
     "execution_count": 21,
     "metadata": {},
     "output_type": "execute_result"
    }
   ],
   "source": [
    "lb = LabelBinarizer()\n",
    "df_train['RainToday'] = lb.fit_transform(df_train['RainToday'])\n",
    "df_train['RainTomorrow'] = lb.fit_transform(df_train['RainTomorrow'])\n",
    "df_test['RainToday'] = lb.fit_transform(df_test['RainToday'])\n",
    "\n",
    "df_train.head()"
   ]
  },
  {
   "cell_type": "code",
   "execution_count": 31,
   "metadata": {
    "colab": {
     "base_uri": "https://localhost:8080/",
     "height": 343
    },
    "colab_type": "code",
    "id": "2gZbTHaDi_Nq",
    "outputId": "1f35e4f4-c723-4d2c-e69e-9c40d525beea"
   },
   "outputs": [
    {
     "data": {
      "text/html": [
       "<div>\n",
       "<style scoped>\n",
       "    .dataframe tbody tr th:only-of-type {\n",
       "        vertical-align: middle;\n",
       "    }\n",
       "\n",
       "    .dataframe tbody tr th {\n",
       "        vertical-align: top;\n",
       "    }\n",
       "\n",
       "    .dataframe thead th {\n",
       "        text-align: right;\n",
       "    }\n",
       "</style>\n",
       "<table border=\"1\" class=\"dataframe\">\n",
       "  <thead>\n",
       "    <tr style=\"text-align: right;\">\n",
       "      <th></th>\n",
       "      <th>ID</th>\n",
       "      <th>Location</th>\n",
       "      <th>MinTemp</th>\n",
       "      <th>MaxTemp</th>\n",
       "      <th>Rainfall</th>\n",
       "      <th>Evaporation</th>\n",
       "      <th>Sunshine</th>\n",
       "      <th>WindGustSpeed</th>\n",
       "      <th>WindSpeed</th>\n",
       "      <th>Humidity</th>\n",
       "      <th>Pressure</th>\n",
       "      <th>Cloud</th>\n",
       "      <th>Temp</th>\n",
       "      <th>RainToday</th>\n",
       "    </tr>\n",
       "  </thead>\n",
       "  <tbody>\n",
       "    <tr>\n",
       "      <th>0</th>\n",
       "      <td>1</td>\n",
       "      <td>Perth</td>\n",
       "      <td>15.3</td>\n",
       "      <td>21.5</td>\n",
       "      <td>4.4</td>\n",
       "      <td>2.4</td>\n",
       "      <td>1.400000</td>\n",
       "      <td>70.0</td>\n",
       "      <td>22.0</td>\n",
       "      <td>69.0</td>\n",
       "      <td>997.6</td>\n",
       "      <td>7.0</td>\n",
       "      <td>19.8</td>\n",
       "      <td>1</td>\n",
       "    </tr>\n",
       "    <tr>\n",
       "      <th>1</th>\n",
       "      <td>2</td>\n",
       "      <td>Portland</td>\n",
       "      <td>7.1</td>\n",
       "      <td>11.0</td>\n",
       "      <td>38.8</td>\n",
       "      <td>1.2</td>\n",
       "      <td>5.800000</td>\n",
       "      <td>48.0</td>\n",
       "      <td>19.0</td>\n",
       "      <td>46.0</td>\n",
       "      <td>1014.0</td>\n",
       "      <td>4.0</td>\n",
       "      <td>10.7</td>\n",
       "      <td>1</td>\n",
       "    </tr>\n",
       "    <tr>\n",
       "      <th>2</th>\n",
       "      <td>3</td>\n",
       "      <td>Hobart</td>\n",
       "      <td>3.6</td>\n",
       "      <td>16.6</td>\n",
       "      <td>0.2</td>\n",
       "      <td>2.8</td>\n",
       "      <td>9.300000</td>\n",
       "      <td>37.0</td>\n",
       "      <td>15.0</td>\n",
       "      <td>48.0</td>\n",
       "      <td>1016.6</td>\n",
       "      <td>5.0</td>\n",
       "      <td>15.4</td>\n",
       "      <td>0</td>\n",
       "    </tr>\n",
       "    <tr>\n",
       "      <th>3</th>\n",
       "      <td>4</td>\n",
       "      <td>Woomera</td>\n",
       "      <td>17.6</td>\n",
       "      <td>37.4</td>\n",
       "      <td>0.0</td>\n",
       "      <td>34.0</td>\n",
       "      <td>8.340426</td>\n",
       "      <td>37.0</td>\n",
       "      <td>19.0</td>\n",
       "      <td>11.0</td>\n",
       "      <td>1010.4</td>\n",
       "      <td>2.0</td>\n",
       "      <td>34.6</td>\n",
       "      <td>0</td>\n",
       "    </tr>\n",
       "    <tr>\n",
       "      <th>4</th>\n",
       "      <td>5</td>\n",
       "      <td>Townsville</td>\n",
       "      <td>11.4</td>\n",
       "      <td>25.6</td>\n",
       "      <td>0.0</td>\n",
       "      <td>6.0</td>\n",
       "      <td>2.800000</td>\n",
       "      <td>31.0</td>\n",
       "      <td>13.0</td>\n",
       "      <td>52.0</td>\n",
       "      <td>1016.4</td>\n",
       "      <td>7.0</td>\n",
       "      <td>24.3</td>\n",
       "      <td>0</td>\n",
       "    </tr>\n",
       "  </tbody>\n",
       "</table>\n",
       "</div>"
      ],
      "text/plain": [
       "   ID    Location  MinTemp  MaxTemp  Rainfall  Evaporation  Sunshine  \\\n",
       "0   1       Perth     15.3     21.5       4.4          2.4  1.400000   \n",
       "1   2    Portland      7.1     11.0      38.8          1.2  5.800000   \n",
       "2   3      Hobart      3.6     16.6       0.2          2.8  9.300000   \n",
       "3   4     Woomera     17.6     37.4       0.0         34.0  8.340426   \n",
       "4   5  Townsville     11.4     25.6       0.0          6.0  2.800000   \n",
       "\n",
       "   WindGustSpeed  WindSpeed  Humidity  Pressure  Cloud  Temp  RainToday  \n",
       "0           70.0       22.0      69.0     997.6    7.0  19.8          1  \n",
       "1           48.0       19.0      46.0    1014.0    4.0  10.7          1  \n",
       "2           37.0       15.0      48.0    1016.6    5.0  15.4          0  \n",
       "3           37.0       19.0      11.0    1010.4    2.0  34.6          0  \n",
       "4           31.0       13.0      52.0    1016.4    7.0  24.3          0  "
      ]
     },
     "execution_count": 31,
     "metadata": {},
     "output_type": "execute_result"
    }
   ],
   "source": [
    "df_test.head()"
   ]
  },
  {
   "cell_type": "markdown",
   "metadata": {
    "colab_type": "text",
    "id": "1QhjFdVk3tX2"
   },
   "source": [
    "#### Performing data standardization and data normalization"
   ]
  },
  {
   "cell_type": "code",
   "execution_count": 22,
   "metadata": {
    "colab": {},
    "colab_type": "code",
    "id": "Ajdm9aUHi_Ns"
   },
   "outputs": [],
   "source": [
    "min_max_scaler = preprocessing.MinMaxScaler()"
   ]
  },
  {
   "cell_type": "code",
   "execution_count": 23,
   "metadata": {
    "colab": {
     "base_uri": "https://localhost:8080/",
     "height": 218
    },
    "colab_type": "code",
    "id": "xd4A94OTi_Nt",
    "outputId": "95c7e42c-43f0-44c6-c062-71c2fa84628f"
   },
   "outputs": [
    {
     "data": {
      "text/plain": [
       "0        1\n",
       "1        0\n",
       "2        1\n",
       "3        1\n",
       "4        0\n",
       "        ..\n",
       "51973    1\n",
       "51974    1\n",
       "51975    1\n",
       "51976    0\n",
       "51977    0\n",
       "Name: RainTomorrow, Length: 51978, dtype: int64"
      ]
     },
     "execution_count": 23,
     "metadata": {},
     "output_type": "execute_result"
    }
   ],
   "source": [
    "df_train['RainToday'].astype(int)\n",
    "df_test['RainToday'].astype(int)\n",
    "df_train['RainTomorrow'].astype(int)"
   ]
  },
  {
   "cell_type": "code",
   "execution_count": 24,
   "metadata": {
    "colab": {},
    "colab_type": "code",
    "id": "RMORqdNHi_Nv"
   },
   "outputs": [],
   "source": [
    "df_train.drop(labels=['Location'], axis=1, inplace=True)\n",
    "df_test.drop(labels=['Location'], axis=1, inplace=True)\n",
    "\n",
    "np_scaled_train = min_max_scaler.fit_transform(df_train)\n",
    "np_scaled_test = min_max_scaler.fit_transform(df_test)"
   ]
  },
  {
   "cell_type": "code",
   "execution_count": 25,
   "metadata": {
    "colab": {},
    "colab_type": "code",
    "id": "pDV5NH-Ii_Nx"
   },
   "outputs": [],
   "source": [
    "df_normalized_train = pd.DataFrame(np_scaled_train, columns=df_train.columns, index=df_train.index)\n",
    "df_normalized_test = pd.DataFrame(np_scaled_test, columns=df_test.columns, index=df_test.index)"
   ]
  },
  {
   "cell_type": "code",
   "execution_count": 36,
   "metadata": {
    "colab": {
     "base_uri": "https://localhost:8080/",
     "height": 304
    },
    "colab_type": "code",
    "id": "3VA1R4kEi_Ny",
    "outputId": "a5abd4a2-fde6-46d4-9cb5-6f0e36311a14"
   },
   "outputs": [
    {
     "data": {
      "text/html": [
       "<div>\n",
       "<style scoped>\n",
       "    .dataframe tbody tr th:only-of-type {\n",
       "        vertical-align: middle;\n",
       "    }\n",
       "\n",
       "    .dataframe tbody tr th {\n",
       "        vertical-align: top;\n",
       "    }\n",
       "\n",
       "    .dataframe thead th {\n",
       "        text-align: right;\n",
       "    }\n",
       "</style>\n",
       "<table border=\"1\" class=\"dataframe\">\n",
       "  <thead>\n",
       "    <tr style=\"text-align: right;\">\n",
       "      <th></th>\n",
       "      <th>MinTemp</th>\n",
       "      <th>MaxTemp</th>\n",
       "      <th>Rainfall</th>\n",
       "      <th>Evaporation</th>\n",
       "      <th>Sunshine</th>\n",
       "      <th>WindGustSpeed</th>\n",
       "      <th>WindSpeed</th>\n",
       "      <th>Humidity</th>\n",
       "      <th>Pressure</th>\n",
       "      <th>Cloud</th>\n",
       "      <th>Temp</th>\n",
       "      <th>RainToday</th>\n",
       "      <th>RainTomorrow</th>\n",
       "    </tr>\n",
       "  </thead>\n",
       "  <tbody>\n",
       "    <tr>\n",
       "      <th>count</th>\n",
       "      <td>51978.000000</td>\n",
       "      <td>51978.000000</td>\n",
       "      <td>51978.000000</td>\n",
       "      <td>51978.000000</td>\n",
       "      <td>51978.000000</td>\n",
       "      <td>51978.000000</td>\n",
       "      <td>51978.000000</td>\n",
       "      <td>51978.000000</td>\n",
       "      <td>51978.000000</td>\n",
       "      <td>51978.000000</td>\n",
       "      <td>51978.000000</td>\n",
       "      <td>51978.000000</td>\n",
       "      <td>51978.000000</td>\n",
       "    </tr>\n",
       "    <tr>\n",
       "      <th>mean</th>\n",
       "      <td>0.521605</td>\n",
       "      <td>0.520797</td>\n",
       "      <td>0.009815</td>\n",
       "      <td>0.067023</td>\n",
       "      <td>0.451025</td>\n",
       "      <td>0.273638</td>\n",
       "      <td>0.229373</td>\n",
       "      <td>0.571218</td>\n",
       "      <td>0.612215</td>\n",
       "      <td>0.652449</td>\n",
       "      <td>0.500269</td>\n",
       "      <td>0.301801</td>\n",
       "      <td>0.490958</td>\n",
       "    </tr>\n",
       "    <tr>\n",
       "      <th>std</th>\n",
       "      <td>0.161611</td>\n",
       "      <td>0.139092</td>\n",
       "      <td>0.029466</td>\n",
       "      <td>0.039698</td>\n",
       "      <td>0.197575</td>\n",
       "      <td>0.110341</td>\n",
       "      <td>0.109556</td>\n",
       "      <td>0.218155</td>\n",
       "      <td>0.113995</td>\n",
       "      <td>0.260079</td>\n",
       "      <td>0.137575</td>\n",
       "      <td>0.459044</td>\n",
       "      <td>0.499923</td>\n",
       "    </tr>\n",
       "    <tr>\n",
       "      <th>min</th>\n",
       "      <td>0.000000</td>\n",
       "      <td>0.000000</td>\n",
       "      <td>0.000000</td>\n",
       "      <td>0.000000</td>\n",
       "      <td>0.000000</td>\n",
       "      <td>0.000000</td>\n",
       "      <td>0.000000</td>\n",
       "      <td>0.000000</td>\n",
       "      <td>0.000000</td>\n",
       "      <td>0.000000</td>\n",
       "      <td>0.000000</td>\n",
       "      <td>0.000000</td>\n",
       "      <td>0.000000</td>\n",
       "    </tr>\n",
       "    <tr>\n",
       "      <th>25%</th>\n",
       "      <td>0.406091</td>\n",
       "      <td>0.416830</td>\n",
       "      <td>0.000000</td>\n",
       "      <td>0.047827</td>\n",
       "      <td>0.402022</td>\n",
       "      <td>0.187500</td>\n",
       "      <td>0.156627</td>\n",
       "      <td>0.424242</td>\n",
       "      <td>0.540362</td>\n",
       "      <td>0.625000</td>\n",
       "      <td>0.400000</td>\n",
       "      <td>0.000000</td>\n",
       "      <td>0.000000</td>\n",
       "    </tr>\n",
       "    <tr>\n",
       "      <th>50%</th>\n",
       "      <td>0.515228</td>\n",
       "      <td>0.506849</td>\n",
       "      <td>0.000000</td>\n",
       "      <td>0.066980</td>\n",
       "      <td>0.450385</td>\n",
       "      <td>0.265625</td>\n",
       "      <td>0.228916</td>\n",
       "      <td>0.585859</td>\n",
       "      <td>0.612411</td>\n",
       "      <td>0.646956</td>\n",
       "      <td>0.487129</td>\n",
       "      <td>0.000000</td>\n",
       "      <td>0.000000</td>\n",
       "    </tr>\n",
       "    <tr>\n",
       "      <th>75%</th>\n",
       "      <td>0.639594</td>\n",
       "      <td>0.618395</td>\n",
       "      <td>0.006469</td>\n",
       "      <td>0.075032</td>\n",
       "      <td>0.517241</td>\n",
       "      <td>0.335938</td>\n",
       "      <td>0.289157</td>\n",
       "      <td>0.727273</td>\n",
       "      <td>0.683690</td>\n",
       "      <td>0.875000</td>\n",
       "      <td>0.594059</td>\n",
       "      <td>1.000000</td>\n",
       "      <td>1.000000</td>\n",
       "    </tr>\n",
       "    <tr>\n",
       "      <th>max</th>\n",
       "      <td>1.000000</td>\n",
       "      <td>1.000000</td>\n",
       "      <td>1.000000</td>\n",
       "      <td>1.000000</td>\n",
       "      <td>1.000000</td>\n",
       "      <td>1.000000</td>\n",
       "      <td>1.000000</td>\n",
       "      <td>1.000000</td>\n",
       "      <td>1.000000</td>\n",
       "      <td>1.000000</td>\n",
       "      <td>1.000000</td>\n",
       "      <td>1.000000</td>\n",
       "      <td>1.000000</td>\n",
       "    </tr>\n",
       "  </tbody>\n",
       "</table>\n",
       "</div>"
      ],
      "text/plain": [
       "            MinTemp       MaxTemp      Rainfall   Evaporation      Sunshine  \\\n",
       "count  51978.000000  51978.000000  51978.000000  51978.000000  51978.000000   \n",
       "mean       0.521605      0.520797      0.009815      0.067023      0.451025   \n",
       "std        0.161611      0.139092      0.029466      0.039698      0.197575   \n",
       "min        0.000000      0.000000      0.000000      0.000000      0.000000   \n",
       "25%        0.406091      0.416830      0.000000      0.047827      0.402022   \n",
       "50%        0.515228      0.506849      0.000000      0.066980      0.450385   \n",
       "75%        0.639594      0.618395      0.006469      0.075032      0.517241   \n",
       "max        1.000000      1.000000      1.000000      1.000000      1.000000   \n",
       "\n",
       "       WindGustSpeed     WindSpeed      Humidity      Pressure         Cloud  \\\n",
       "count   51978.000000  51978.000000  51978.000000  51978.000000  51978.000000   \n",
       "mean        0.273638      0.229373      0.571218      0.612215      0.652449   \n",
       "std         0.110341      0.109556      0.218155      0.113995      0.260079   \n",
       "min         0.000000      0.000000      0.000000      0.000000      0.000000   \n",
       "25%         0.187500      0.156627      0.424242      0.540362      0.625000   \n",
       "50%         0.265625      0.228916      0.585859      0.612411      0.646956   \n",
       "75%         0.335938      0.289157      0.727273      0.683690      0.875000   \n",
       "max         1.000000      1.000000      1.000000      1.000000      1.000000   \n",
       "\n",
       "               Temp     RainToday  RainTomorrow  \n",
       "count  51978.000000  51978.000000  51978.000000  \n",
       "mean       0.500269      0.301801      0.490958  \n",
       "std        0.137575      0.459044      0.499923  \n",
       "min        0.000000      0.000000      0.000000  \n",
       "25%        0.400000      0.000000      0.000000  \n",
       "50%        0.487129      0.000000      0.000000  \n",
       "75%        0.594059      1.000000      1.000000  \n",
       "max        1.000000      1.000000      1.000000  "
      ]
     },
     "execution_count": 36,
     "metadata": {},
     "output_type": "execute_result"
    }
   ],
   "source": [
    "df_normalized_train.describe()"
   ]
  },
  {
   "cell_type": "code",
   "execution_count": 37,
   "metadata": {
    "colab": {
     "base_uri": "https://localhost:8080/",
     "height": 304
    },
    "colab_type": "code",
    "id": "HaiAUwr2i_N1",
    "outputId": "52129d20-42e0-4b46-91d9-b119e2d64977"
   },
   "outputs": [
    {
     "data": {
      "text/html": [
       "<div>\n",
       "<style scoped>\n",
       "    .dataframe tbody tr th:only-of-type {\n",
       "        vertical-align: middle;\n",
       "    }\n",
       "\n",
       "    .dataframe tbody tr th {\n",
       "        vertical-align: top;\n",
       "    }\n",
       "\n",
       "    .dataframe thead th {\n",
       "        text-align: right;\n",
       "    }\n",
       "</style>\n",
       "<table border=\"1\" class=\"dataframe\">\n",
       "  <thead>\n",
       "    <tr style=\"text-align: right;\">\n",
       "      <th></th>\n",
       "      <th>ID</th>\n",
       "      <th>MinTemp</th>\n",
       "      <th>MaxTemp</th>\n",
       "      <th>Rainfall</th>\n",
       "      <th>Evaporation</th>\n",
       "      <th>Sunshine</th>\n",
       "      <th>WindGustSpeed</th>\n",
       "      <th>WindSpeed</th>\n",
       "      <th>Humidity</th>\n",
       "      <th>Pressure</th>\n",
       "      <th>Cloud</th>\n",
       "      <th>Temp</th>\n",
       "      <th>RainToday</th>\n",
       "    </tr>\n",
       "  </thead>\n",
       "  <tbody>\n",
       "    <tr>\n",
       "      <th>count</th>\n",
       "      <td>12994.000000</td>\n",
       "      <td>12994.000000</td>\n",
       "      <td>12994.000000</td>\n",
       "      <td>12994.000000</td>\n",
       "      <td>12994.000000</td>\n",
       "      <td>12994.000000</td>\n",
       "      <td>12994.000000</td>\n",
       "      <td>12994.000000</td>\n",
       "      <td>12994.000000</td>\n",
       "      <td>12994.000000</td>\n",
       "      <td>12994.000000</td>\n",
       "      <td>12994.000000</td>\n",
       "      <td>12994.000000</td>\n",
       "    </tr>\n",
       "    <tr>\n",
       "      <th>mean</th>\n",
       "      <td>0.500000</td>\n",
       "      <td>0.524865</td>\n",
       "      <td>0.517642</td>\n",
       "      <td>0.009938</td>\n",
       "      <td>0.059206</td>\n",
       "      <td>0.470168</td>\n",
       "      <td>0.273829</td>\n",
       "      <td>0.218482</td>\n",
       "      <td>0.568862</td>\n",
       "      <td>0.596288</td>\n",
       "      <td>0.645670</td>\n",
       "      <td>0.496141</td>\n",
       "      <td>0.302447</td>\n",
       "    </tr>\n",
       "    <tr>\n",
       "      <th>std</th>\n",
       "      <td>0.288708</td>\n",
       "      <td>0.176258</td>\n",
       "      <td>0.140236</td>\n",
       "      <td>0.029826</td>\n",
       "      <td>0.035838</td>\n",
       "      <td>0.205745</td>\n",
       "      <td>0.111072</td>\n",
       "      <td>0.105129</td>\n",
       "      <td>0.218424</td>\n",
       "      <td>0.121563</td>\n",
       "      <td>0.262058</td>\n",
       "      <td>0.137890</td>\n",
       "      <td>0.459336</td>\n",
       "    </tr>\n",
       "    <tr>\n",
       "      <th>min</th>\n",
       "      <td>0.000000</td>\n",
       "      <td>0.000000</td>\n",
       "      <td>0.000000</td>\n",
       "      <td>0.000000</td>\n",
       "      <td>0.000000</td>\n",
       "      <td>0.000000</td>\n",
       "      <td>0.000000</td>\n",
       "      <td>0.000000</td>\n",
       "      <td>0.000000</td>\n",
       "      <td>0.000000</td>\n",
       "      <td>0.000000</td>\n",
       "      <td>0.000000</td>\n",
       "      <td>0.000000</td>\n",
       "    </tr>\n",
       "    <tr>\n",
       "      <th>25%</th>\n",
       "      <td>0.250000</td>\n",
       "      <td>0.400552</td>\n",
       "      <td>0.415020</td>\n",
       "      <td>0.000000</td>\n",
       "      <td>0.041763</td>\n",
       "      <td>0.421501</td>\n",
       "      <td>0.187500</td>\n",
       "      <td>0.149425</td>\n",
       "      <td>0.416667</td>\n",
       "      <td>0.521053</td>\n",
       "      <td>0.613994</td>\n",
       "      <td>0.397614</td>\n",
       "      <td>0.000000</td>\n",
       "    </tr>\n",
       "    <tr>\n",
       "      <th>50%</th>\n",
       "      <td>0.500000</td>\n",
       "      <td>0.516575</td>\n",
       "      <td>0.501976</td>\n",
       "      <td>0.000000</td>\n",
       "      <td>0.059732</td>\n",
       "      <td>0.469852</td>\n",
       "      <td>0.265625</td>\n",
       "      <td>0.218391</td>\n",
       "      <td>0.575758</td>\n",
       "      <td>0.596504</td>\n",
       "      <td>0.639249</td>\n",
       "      <td>0.483101</td>\n",
       "      <td>0.000000</td>\n",
       "    </tr>\n",
       "    <tr>\n",
       "      <th>75%</th>\n",
       "      <td>0.750000</td>\n",
       "      <td>0.651934</td>\n",
       "      <td>0.614625</td>\n",
       "      <td>0.006529</td>\n",
       "      <td>0.062645</td>\n",
       "      <td>0.546657</td>\n",
       "      <td>0.335938</td>\n",
       "      <td>0.275862</td>\n",
       "      <td>0.727273</td>\n",
       "      <td>0.671930</td>\n",
       "      <td>0.875000</td>\n",
       "      <td>0.586481</td>\n",
       "      <td>1.000000</td>\n",
       "    </tr>\n",
       "    <tr>\n",
       "      <th>max</th>\n",
       "      <td>1.000000</td>\n",
       "      <td>1.000000</td>\n",
       "      <td>1.000000</td>\n",
       "      <td>1.000000</td>\n",
       "      <td>1.000000</td>\n",
       "      <td>1.000000</td>\n",
       "      <td>1.000000</td>\n",
       "      <td>1.000000</td>\n",
       "      <td>1.000000</td>\n",
       "      <td>1.000000</td>\n",
       "      <td>1.000000</td>\n",
       "      <td>1.000000</td>\n",
       "      <td>1.000000</td>\n",
       "    </tr>\n",
       "  </tbody>\n",
       "</table>\n",
       "</div>"
      ],
      "text/plain": [
       "                 ID       MinTemp       MaxTemp      Rainfall   Evaporation  \\\n",
       "count  12994.000000  12994.000000  12994.000000  12994.000000  12994.000000   \n",
       "mean       0.500000      0.524865      0.517642      0.009938      0.059206   \n",
       "std        0.288708      0.176258      0.140236      0.029826      0.035838   \n",
       "min        0.000000      0.000000      0.000000      0.000000      0.000000   \n",
       "25%        0.250000      0.400552      0.415020      0.000000      0.041763   \n",
       "50%        0.500000      0.516575      0.501976      0.000000      0.059732   \n",
       "75%        0.750000      0.651934      0.614625      0.006529      0.062645   \n",
       "max        1.000000      1.000000      1.000000      1.000000      1.000000   \n",
       "\n",
       "           Sunshine  WindGustSpeed     WindSpeed      Humidity      Pressure  \\\n",
       "count  12994.000000   12994.000000  12994.000000  12994.000000  12994.000000   \n",
       "mean       0.470168       0.273829      0.218482      0.568862      0.596288   \n",
       "std        0.205745       0.111072      0.105129      0.218424      0.121563   \n",
       "min        0.000000       0.000000      0.000000      0.000000      0.000000   \n",
       "25%        0.421501       0.187500      0.149425      0.416667      0.521053   \n",
       "50%        0.469852       0.265625      0.218391      0.575758      0.596504   \n",
       "75%        0.546657       0.335938      0.275862      0.727273      0.671930   \n",
       "max        1.000000       1.000000      1.000000      1.000000      1.000000   \n",
       "\n",
       "              Cloud          Temp     RainToday  \n",
       "count  12994.000000  12994.000000  12994.000000  \n",
       "mean       0.645670      0.496141      0.302447  \n",
       "std        0.262058      0.137890      0.459336  \n",
       "min        0.000000      0.000000      0.000000  \n",
       "25%        0.613994      0.397614      0.000000  \n",
       "50%        0.639249      0.483101      0.000000  \n",
       "75%        0.875000      0.586481      1.000000  \n",
       "max        1.000000      1.000000      1.000000  "
      ]
     },
     "execution_count": 37,
     "metadata": {},
     "output_type": "execute_result"
    }
   ],
   "source": [
    "df_normalized_test.describe()"
   ]
  },
  {
   "cell_type": "markdown",
   "metadata": {
    "colab_type": "text",
    "id": "h7rAT3ub4bJa"
   },
   "source": [
    "## Section 2"
   ]
  },
  {
   "cell_type": "markdown",
   "metadata": {},
   "source": [
    "###  Cluster Analysis & Decision Tree Modeling"
   ]
  },
  {
   "cell_type": "markdown",
   "metadata": {
    "colab_type": "text",
    "id": "wn8myguI5L_1"
   },
   "source": [
    "Since we do not have the actual prediction output for testing set, I will initially split the training data in 80-20% to test how the models are performing.\n"
   ]
  },
  {
   "cell_type": "markdown",
   "metadata": {},
   "source": [
    "### Data Spliting "
   ]
  },
  {
   "cell_type": "code",
   "execution_count": 26,
   "metadata": {
    "colab": {},
    "colab_type": "code",
    "id": "I1fnCaUNi_N3"
   },
   "outputs": [],
   "source": [
    "OUTPUT_COL = 'RainTomorrow'\n",
    "df_X = df_train.loc[:, df_train.columns != OUTPUT_COL]\n",
    "df_y = df_train[OUTPUT_COL]\n",
    "\n",
    "df_train_X, df_val_X, df_train_y, df_val_y = train_test_split(df_X, df_y, test_size=0.2, random_state=47)"
   ]
  },
  {
   "cell_type": "markdown",
   "metadata": {
    "colab_type": "text",
    "id": "KAvAbAjH5oMC"
   },
   "source": [
    "In order to use unsupervised learning algorithms like clustering for classifying data, while training - I am creating 2 clusters and finding out majority label from both clusters and that would the final label for that cluster. While testing, I used the above model to add testing data points to above created cluster - if that row falls in the cluster that is labeled as 'Yes' - then it'll be predicted to rain for that row.\n",
    "\n",
    "Creating reusable functions below to get majority label and classify data from the 2 clusters (for both Kmeans and HAC)."
   ]
  },
  {
   "cell_type": "code",
   "execution_count": 27,
   "metadata": {
    "colab": {},
    "colab_type": "code",
    "id": "x1WfFKjAlPih"
   },
   "outputs": [],
   "source": [
    "def get_majority_labels(cluster_labels, df_true_labels):\n",
    "  cluster_0_rain, cluster_0_no_rain = 0, 0\n",
    "  cluster_1_rain, cluster_1_no_rain = 0, 0\n",
    "\n",
    "  for i in range(len(cluster_labels)):\n",
    "    if df_true_labels.iloc[i] == 1:\n",
    "      if cluster_labels[i] == 0:\n",
    "        cluster_0_rain += 1\n",
    "      else:\n",
    "        cluster_1_rain += 1\n",
    "    else:\n",
    "      if cluster_labels[i] == 0:\n",
    "        cluster_0_no_rain += 1\n",
    "      else:\n",
    "        cluster_1_no_rain += 1\n",
    "  cluster_0_majority = 1 if cluster_0_rain > cluster_0_no_rain else 0\n",
    "  cluster_1_majority = 1 if cluster_1_rain > cluster_1_no_rain else 0\n",
    "  return cluster_0_majority, cluster_1_majority\n",
    "\n",
    "\n",
    "def classify_by_cluster(label0, label1, cluster_labels):\n",
    "  class_out = []\n",
    "  for label in cluster_labels:\n",
    "    if label == 0:\n",
    "      class_out.append(label0)\n",
    "    else:\n",
    "      class_out.append(label1)\n",
    "  return class_out"
   ]
  },
  {
   "cell_type": "markdown",
   "metadata": {},
   "source": [
    "###  Model Building "
   ]
  },
  {
   "cell_type": "markdown",
   "metadata": {},
   "source": [
    "### Kmeans"
   ]
  },
  {
   "cell_type": "code",
   "execution_count": 29,
   "metadata": {
    "colab": {
     "base_uri": "https://localhost:8080/",
     "height": 34
    },
    "colab_type": "code",
    "id": "bfdLD2npmVH0",
    "outputId": "31d8d34c-e453-4feb-8583-240de90bf4ef"
   },
   "outputs": [
    {
     "name": "stdout",
     "output_type": "stream",
     "text": [
      "0.7223932281646788\n"
     ]
    }
   ],
   "source": [
    "kmeans = KMeans(n_clusters=2, random_state=47).fit(df_train_X)\n",
    "kmeans_label0, kmeans_label1 = get_majority_labels(kmeans.labels_, df_train_y)\n",
    "\n",
    "val_pred_kmeans = classify_by_cluster(kmeans_label0, kmeans_label1, kmeans.predict(df_val_X))\n",
    "print(accuracy_score(df_val_y, val_pred_kmeans))"
   ]
  },
  {
   "cell_type": "markdown",
   "metadata": {
    "colab_type": "text",
    "id": "H2kjQqnhqo-w"
   },
   "source": [
    "Since we're dealing with Weather forecasting problem, I'll go ahead with measuring Recall for model evaluation, as to predict if it'll rain, we can afford to have False positives. False negatives (predicting that it will not rain, but it ends up raining on that day) is more harmful here.\n",
    "\n",
    "Also, it also correct to measure accuracy score as we half almost equal number of Yes and No labels in the training set."
   ]
  },
  {
   "cell_type": "code",
   "execution_count": 30,
   "metadata": {
    "colab": {
     "base_uri": "https://localhost:8080/",
     "height": 34
    },
    "colab_type": "code",
    "id": "gjOwy1JDNWMy",
    "outputId": "9929ce1c-4114-4d76-8b56-1edac46298dd"
   },
   "outputs": [
    {
     "name": "stdout",
     "output_type": "stream",
     "text": [
      "0.7704756266035129\n"
     ]
    }
   ],
   "source": [
    "print(recall_score(df_val_y, val_pred_kmeans))"
   ]
  },
  {
   "cell_type": "markdown",
   "metadata": {
    "colab_type": "text",
    "id": "-9kpypUY8u5j"
   },
   "source": [
    "Now that we know our model's accuracy and recall, lets take the complete training dataset and predict weather for testing set."
   ]
  },
  {
   "cell_type": "code",
   "execution_count": 31,
   "metadata": {
    "colab": {},
    "colab_type": "code",
    "id": "zpGFRMhaOIbr"
   },
   "outputs": [],
   "source": [
    "df_IDs = df_test['ID']\n",
    "df_test_Final = df_test.loc[:, df_test.columns != 'ID']\n",
    "\n",
    "kmeansFinal = KMeans(n_clusters=2, random_state=47).fit(df_X)\n",
    "kmeansF_label0, kmeansF_label1 = get_majority_labels(kmeansFinal.labels_, df_y)\n",
    "\n",
    "val_pred_kmeansFinal = classify_by_cluster(kmeansF_label0, kmeansF_label1, kmeansFinal.predict(df_test_Final))"
   ]
  },
  {
   "cell_type": "markdown",
   "metadata": {
    "colab_type": "text",
    "id": "LAx0TbPg84Ow"
   },
   "source": [
    "#### HAC"
   ]
  },
  {
   "cell_type": "code",
   "execution_count": 2,
   "metadata": {
    "colab": {
     "base_uri": "https://localhost:8080/",
     "height": 34
    },
    "colab_type": "code",
    "id": "U-vvlTCjR2Ac",
    "outputId": "5048be42-0f69-4f89-a4a5-f32661de1a28"
   },
   "outputs": [],
   "source": [
    "df_merged = pd.concat([df_train_X, df_val_X])\n",
    "\n",
    "hac = AgglomerativeClustering(n_clusters=2).fit(df_merged)\n",
    "hac_labels = hac.labels_\n",
    "hac_labels_train = hac_labels[:len(df_train_X)]\n",
    "hac_label0, hac_label1 = get_majority_labels(hac_labels_train, df_train_y)\n",
    "\n",
    "hac_labels_val = hac_labels[-len(df_val_X):]\n",
    "val_pred_hac = classify_by_cluster(hac_label0, hac_label1, hac_labels_val)\n",
    "print(accuracy_score(df_val_y, val_pred_hac))"
   ]
  },
  {
   "cell_type": "code",
   "execution_count": 216,
   "metadata": {
    "colab": {
     "base_uri": "https://localhost:8080/",
     "height": 34
    },
    "colab_type": "code",
    "id": "LV8uO5SMUDJP",
    "outputId": "a802ed3d-d095-4899-a4ab-259e2e3d4e6c"
   },
   "outputs": [
    {
     "name": "stdout",
     "output_type": "stream",
     "text": [
      "0.9301361752516282\n"
     ]
    }
   ],
   "source": [
    "print(recall_score(df_val_y, val_pred_hac))"
   ]
  },
  {
   "cell_type": "markdown",
   "metadata": {
    "colab_type": "text",
    "id": "JdQ5K3_C89Ah"
   },
   "source": [
    "#### Predict for testing set using HAC"
   ]
  },
  {
   "cell_type": "code",
   "execution_count": null,
   "metadata": {
    "colab": {},
    "colab_type": "code",
    "id": "-BkoFMmFUTRP"
   },
   "outputs": [],
   "source": [
    "df_merged = pd.concat([df_train_X, df_val_X])\n",
    "\n",
    "hac = AgglomerativeClustering(n_clusters=2).fit(df_merged)\n",
    "hac_labels = hac.labels_\n",
    "hac_labels_train = hac_labels[:len(df_train_X)]\n",
    "hac_label0, hac_label1 = get_majority_labels(hac_labels_train, df_train_y)\n",
    "\n",
    "hac_labels_val = hac_labels[-len(df_test_Final):]\n",
    "val_pred_hac = classify_by_cluster(hac_label0, hac_label1, hac_labels_val)"
   ]
  },
  {
   "cell_type": "markdown",
   "metadata": {
    "colab_type": "text",
    "id": "7Cm-0pkA9Ewp"
   },
   "source": [
    "#### Decision Tree"
   ]
  },
  {
   "cell_type": "code",
   "execution_count": 32,
   "metadata": {
    "colab": {
     "base_uri": "https://localhost:8080/",
     "height": 34
    },
    "colab_type": "code",
    "id": "K09w1GgqaRvG",
    "outputId": "c4086601-5737-4088-fa30-86e0c2824ebf"
   },
   "outputs": [
    {
     "name": "stdout",
     "output_type": "stream",
     "text": [
      "0.7680838784147749\n"
     ]
    }
   ],
   "source": [
    "dtc = DecisionTreeClassifier(random_state=47, criterion=\"entropy\", min_samples_split=9, max_depth=8, min_samples_leaf=6, max_leaf_nodes= 56).fit(df_train_X, df_train_y)\n",
    "\n",
    "val_pred_dtc = dtc.predict(df_val_X)\n",
    "print(accuracy_score(df_val_y, val_pred_dtc))"
   ]
  },
  {
   "cell_type": "code",
   "execution_count": 33,
   "metadata": {
    "colab": {
     "base_uri": "https://localhost:8080/",
     "height": 34
    },
    "colab_type": "code",
    "id": "rK61IrhxrDOh",
    "outputId": "f808508c-9b12-46e2-e71d-6f8b122526d7"
   },
   "outputs": [
    {
     "name": "stdout",
     "output_type": "stream",
     "text": [
      "0.7394908229721728\n"
     ]
    }
   ],
   "source": [
    "print(recall_score(df_val_y, val_pred_dtc))"
   ]
  },
  {
   "cell_type": "markdown",
   "metadata": {
    "colab_type": "text",
    "id": "oexRNZuAubju"
   },
   "source": [
    "#### Hyperparameters tuning\n",
    "#### [Combination : Accuracy]\n",
    "#### 1. random_state = 47 : 70.98%\n",
    "#### 2. random_state =47, splitter=\"random\" : 69.6%\n",
    "#### 3. random_state =47, criterion=\"gini\" : 70.98%\n",
    "#### 4. random_state =47, criterion=\"entropy\" : 70.99%\n",
    "#### 5. random_state =47, criterion=\"gini\", min_samples_split = 2 : 70.98%\n",
    "#### 6. random_state =47, criterion=\"gini\", min_samples_split = 7 : 71.01%\n",
    "#### 7. random_state =47, criterion=\"gini\", min_samples_split = 9 : 71.18%\n",
    "#### 8. random_state =47, criterion=\"gini\", min_samples_split = 10 : 71.11%\n",
    "#### 9. random_state=47, criterion=\"entropy\", min_samples_split=9, max_depth=5 : 75.9%\n",
    "#### 10. random_state=47, criterion=\"entropy\", min_samples_split=9, max_depth=6 : 76.3%\n",
    "#### 11. random_state=47, criterion=\"entropy\", min_samples_split=9, max_depth=8 : 76.5%\n",
    "#### 12. random_state=47, criterion=\"entropy\", min_samples_split=9, max_depth=8, min_samples_leaf=1 : 76.5%\n",
    "#### 13. random_state=47, criterion=\"entropy\", min_samples_split=9, max_depth=8, min_samples_leaf=6 : 76.6%\n",
    "#### 14. random_state=47, criterion=\"entropy\", min_samples_split=9, max_depth=8, min_samples_leaf=6, max_leaf_nodes = 2 : 72.3%\n",
    "#### 14. random_state=47, criterion=\"entropy\", min_samples_split=9, max_depth=8, min_samples_leaf=6, max_leaf_nodes = 8 : 73.5%\n",
    "#### 14. random_state=47, criterion=\"entropy\", min_samples_split=9, max_depth=8, min_samples_leaf=6, max_leaf_nodes = 40 : 76.54%\n",
    "#### 14. random_state=47, criterion=\"entropy\", min_samples_split=9, max_depth=8, min_samples_leaf=6, max_leaf_nodes = 48 : 76.73%\n",
    "#### 14. random_state=47, criterion=\"entropy\", min_samples_split=9, max_depth=8, min_samples_leaf=6, max_leaf_nodes = 56 : 76.81%\n",
    "\n",
    "\n",
    "#### Now that we know our model's accuracy & recall, lets take the complete training dataset and predict weather for testing set."
   ]
  },
  {
   "cell_type": "code",
   "execution_count": 34,
   "metadata": {
    "colab": {},
    "colab_type": "code",
    "id": "41ULUzVSapOy"
   },
   "outputs": [],
   "source": [
    "dtcFin = DecisionTreeClassifier(random_state=47, criterion=\"entropy\", min_samples_split=9, max_depth=8, min_samples_leaf=6, max_leaf_nodes= 56).fit(df_X, df_y)\n",
    "\n",
    "val_pred_dtc_final = dtcFin.predict(df_test_Final)"
   ]
  },
  {
   "cell_type": "markdown",
   "metadata": {
    "colab_type": "text",
    "id": "DWYW21mct25K"
   },
   "source": [
    "We got better results from Decision tree classifier than using KMeans, which did better than HAC. \n",
    "We can use clustering to perform classification, but classification algorithms perform better than clustering algorithms when it comes to classifying data."
   ]
  },
  {
   "cell_type": "markdown",
   "metadata": {
    "colab_type": "text",
    "id": "7BUgtceA9LiV"
   },
   "source": [
    "#### ROC-AUC for decision tree\n"
   ]
  },
  {
   "cell_type": "code",
   "execution_count": 35,
   "metadata": {
    "colab": {
     "base_uri": "https://localhost:8080/",
     "height": 295
    },
    "colab_type": "code",
    "id": "7Jszn4osuTr8",
    "outputId": "85a7ceaf-dd17-4a22-d65f-73127c3ef87f"
   },
   "outputs": [
    {
     "data": {
      "image/png": "[encoded data removed]",
      "text/plain": [
       "<Figure size 432x288 with 1 Axes>"
      ]
     },
     "metadata": {
      "needs_background": "light"
     },
     "output_type": "display_data"
    }
   ],
   "source": [
    "fpr, tpr, threshold = roc_curve(df_val_y, val_pred_dtc)\n",
    "plt.plot(fpr, tpr, label='AUC: %0.2f' % auc(fpr, tpr))\n",
    "plt.plot([0, 1], [0, 1], '--', lw=2)\n",
    "plt.title('ROC')\n",
    "plt.xlabel('FPR')\n",
    "plt.ylabel('TPR')\n",
    "plt.legend()\n",
    "plt.show()"
   ]
  },
  {
   "cell_type": "markdown",
   "metadata": {
    "colab_type": "text",
    "id": "pIifs_xa9PtD"
   },
   "source": [
    "#### Area Under Curve (AUC) = 0.77"
   ]
  },
  {
   "cell_type": "markdown",
   "metadata": {},
   "source": [
    "Unsupervised models are used when the outcome (or class label) of each sample is not available in your data. \n",
    "If you want to use your method to perform a classification task, you should have those labels in order to assess how good the method is. \n",
    "You can use your clustering method on data with labels removed and then check its efficiency by counting how many samples labeled with a similar class went to the same clusters. \n",
    "The trick here is that you cannot use precision, recall etc. metrics that you usually use to check the efficiency of classification."
   ]
  },
  {
   "cell_type": "markdown",
   "metadata": {},
   "source": [
    "# Section 3"
   ]
  },
  {
   "cell_type": "markdown",
   "metadata": {},
   "source": [
    "### Prediction and interpretation"
   ]
  },
  {
   "cell_type": "code",
   "execution_count": 43,
   "metadata": {
    "colab": {},
    "colab_type": "code",
    "id": "q6rEAx7tkmXB"
   },
   "outputs": [],
   "source": [
    "final = {\n",
    "    'ID' : df_test_copy.ID,\n",
    "    'kmeans' : val_pred_kmeansFinal,\n",
    "    'HAC' : val_pred_hac,\n",
    "    'DT' : val_pred_dtc_final\n",
    "}\n",
    "final_df = pd.DataFrame(final)\n",
    "final_df.to_csv('Output.csv')"
   ]
  }
 ],
 "metadata": {
  "colab": {
   "machine_shape": "hm",
   "name": "Untitled (1) (1) (1) (1) (1).ipynb",
   "provenance": []
  },
  "kernelspec": {
   "display_name": "Python 3",
   "language": "python",
   "name": "python3"
  },
  "language_info": {
   "codemirror_mode": {
    "name": "ipython",
    "version": 3
   },
   "file_extension": ".py",
   "mimetype": "text/x-python",
   "name": "python",
   "nbconvert_exporter": "python",
   "pygments_lexer": "ipython3",
   "version": "3.8.5"
  }
 },
 "nbformat": 4,
 "nbformat_minor": 1
}
