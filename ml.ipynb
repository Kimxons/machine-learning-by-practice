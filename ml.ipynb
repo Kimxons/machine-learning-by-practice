{
 "cells": [
  {
   "cell_type": "code",
   "execution_count": 8,
   "metadata": {},
   "outputs": [
    {
     "name": "stdout",
     "output_type": "stream",
     "text": [
      "[1. 2. 4.]\n",
      "(3,)\n",
      "float64\n"
     ]
    }
   ],
   "source": [
    "#ml basics\n",
    "#create array\n",
    "# from numpy import array #import array() function\n",
    "import numpy as np \n",
    "l = [1.0, 2.0, 4.0]\n",
    "l1 = np.array(l)\n",
    "print(l1) #print array\n",
    "print(l1.shape) #print array shape\n",
    "print(l1.dtype) #print array datatype"
   ]
  },
  {
   "cell_type": "code",
   "execution_count": null,
   "metadata": {},
   "outputs": [],
   "source": [
    "l2 = np.empty([3,3]) #create an empty array\n",
    "print(l2)"
   ]
  }
 ],
 "metadata": {
  "kernelspec": {
   "display_name": "Python 3",
   "language": "python",
   "name": "python3"
  },
  "language_info": {
   "codemirror_mode": {
    "name": "ipython",
    "version": 3
   },
   "file_extension": ".py",
   "mimetype": "text/x-python",
   "name": "python",
   "nbconvert_exporter": "python",
   "pygments_lexer": "ipython3",
   "version": "3.7.3"
  }
 },
 "nbformat": 4,
 "nbformat_minor": 2
}
