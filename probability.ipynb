{
 "cells": [
  {
   "cell_type": "code",
   "execution_count": null,
   "metadata": {},
   "outputs": [],
   "source": [
    "**The arithmetic mean can be calculated for a vector or matrix in NumPy by\n",
    "using the mean() function\n",
    "**Formula\n",
    "**Mean = P(x) * ∑x"
   ]
  },
  {
   "cell_type": "code",
   "execution_count": 15,
   "metadata": {},
   "outputs": [
    {
     "name": "stdout",
     "output_type": "stream",
     "text": [
      "[1 2 3 4 5 6] \n",
      "\n",
      "3.5\n",
      "3.5\n"
     ]
    }
   ],
   "source": [
    "#let's dive into probs\n",
    "#mean  numpy\n",
    "import numpy as np \n",
    "\n",
    "arr = np.array([1,2,3,4,5,6])\n",
    "print(arr, \"\\n\")\n",
    "print(np.mean(arr))\n",
    "\n",
    "var = np.var(arr, ddof=1)\n",
    "print(var)"
   ]
  },
  {
   "cell_type": "code",
   "execution_count": 18,
   "metadata": {
    "scrolled": true
   },
   "outputs": [
    {
     "name": "stdout",
     "output_type": "stream",
     "text": [
      "[[1 2 3 4 5 6]\n",
      " [1 2 3 4 5 6]] \n",
      "\n",
      "[1. 2. 3. 4. 5. 6.] \n",
      "\n",
      "[3.5 3.5] \n",
      "\n",
      "1.8708286933869707 \n",
      "\n",
      "1.8708286933869707\n"
     ]
    }
   ],
   "source": [
    "arr1 = np.array([\n",
    "    [1,2,3,4,5,6],\n",
    "    [1,2,3,4,5,6]\n",
    "])\n",
    "print(arr1, \"\\n\")\n",
    "\n",
    "col_mean = np.mean(arr1, axis=0) #column mean\n",
    "print(col_mean, \"\\n\")\n",
    "\n",
    "row_mean = np.mean(arr1, axis=1) #row mean\n",
    "print(row_mean, \"\\n\")\n",
    "\n",
    "# std deviation\n",
    "col_std = np.std(arr, ddof=1, axis=0)\n",
    "print(col_std, \"\\n\")\n",
    "\n",
    "row_std = np.std(arr, ddof=1, axis=0)\n",
    "print(row_std)"
   ]
  },
  {
   "cell_type": "code",
   "execution_count": 24,
   "metadata": {
    "scrolled": true
   },
   "outputs": [
    {
     "name": "stdout",
     "output_type": "stream",
     "text": [
      "[1 2 3 4 5 6] \n",
      "\n",
      "[6 5 4 3 2 1] \n",
      "\n",
      "-3.5\n"
     ]
    }
   ],
   "source": [
    "x = np.array([1,2,3,4,5,6])\n",
    "print(x, \"\\n\")\n",
    "\n",
    "y = np.array([6,5,4,3,2,1])\n",
    "print(y, \"\\n\")\n",
    "\n",
    "cov = np.cov(x,y)[0,1]\n",
    "print(cov)"
   ]
  }
 ],
 "metadata": {
  "kernelspec": {
   "display_name": "Python 3",
   "language": "python",
   "name": "python3"
  },
  "language_info": {
   "codemirror_mode": {
    "name": "ipython",
    "version": 3
   },
   "file_extension": ".py",
   "mimetype": "text/x-python",
   "name": "python",
   "nbconvert_exporter": "python",
   "pygments_lexer": "ipython3",
   "version": "3.7.3"
  }
 },
 "nbformat": 4,
 "nbformat_minor": 2
}
