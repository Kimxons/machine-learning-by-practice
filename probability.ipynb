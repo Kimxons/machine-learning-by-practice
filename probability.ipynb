{
 "cells": [
  {
   "cell_type": "code",
   "execution_count": null,
   "metadata": {},
   "outputs": [],
   "source": [
    "**The arithmetic mean can be calculated for a vector or matrix in NumPy by\n",
    "using the mean() function\n",
    "**Formula\n",
    "**Mean = P(x) * ∑x"
   ]
  },
  {
   "cell_type": "code",
   "execution_count": 6,
   "metadata": {},
   "outputs": [
    {
     "name": "stdout",
     "output_type": "stream",
     "text": [
      "[1 2 3 4 5 6] \n",
      "\n",
      "3.5\n"
     ]
    }
   ],
   "source": [
    "#let's dive into probs\n",
    "#mean  numpy\n",
    "import numpy as np \n",
    "\n",
    "arr = np.array([1,2,3,4,5,6])\n",
    "print(arr, \"\\n\")\n",
    "print(np.mean(arr))"
   ]
  },
  {
   "cell_type": "code",
   "execution_count": 11,
   "metadata": {},
   "outputs": [
    {
     "name": "stdout",
     "output_type": "stream",
     "text": [
      "[[1 2 3 4 5 6]\n",
      " [1 2 3 4 5 6]] \n",
      "\n",
      "[1. 2. 3. 4. 5. 6.] \n",
      "\n",
      "[3.5 3.5]\n"
     ]
    }
   ],
   "source": [
    "arr1 = np.array([\n",
    "    [1,2,3,4,5,6],\n",
    "    [1,2,3,4,5,6]\n",
    "])\n",
    "print(arr1, \"\\n\")\n",
    "\n",
    "col_mean = np.mean(arr1, axis=0) #column mean\n",
    "print(col_mean, \"\\n\")\n",
    "\n",
    "row_mean = np.mean(arr1, axis=1) #row mean\n",
    "print(row_mean)"
   ]
  }
 ],
 "metadata": {
  "kernelspec": {
   "display_name": "Python 3",
   "language": "python",
   "name": "python3"
  },
  "language_info": {
   "codemirror_mode": {
    "name": "ipython",
    "version": 3
   },
   "file_extension": ".py",
   "mimetype": "text/x-python",
   "name": "python",
   "nbconvert_exporter": "python",
   "pygments_lexer": "ipython3",
   "version": "3.7.3"
  }
 },
 "nbformat": 4,
 "nbformat_minor": 2
}
