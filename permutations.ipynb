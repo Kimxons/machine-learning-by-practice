{
 "cells": [
  {
   "cell_type": "code",
   "execution_count": null,
   "metadata": {},
   "outputs": [],
   "source": [
    "# order of items matters in permutations\n",
    "from itertools import permutations\n",
    "\n",
    "mylist = list(permutations([1, 2, 3]))\n",
    "mylist"
   ]
  },
  {
   "cell_type": "code",
   "execution_count": null,
   "metadata": {},
   "outputs": [],
   "source": [
    "def perm(head, tail=''):\n",
    "    if len(head) == 0:\n",
    "        print(tail)\n",
    "    else:\n",
    "        for i in range(len(head)):\n",
    "            permutations(head[:i] + head[i+1:], tail + head[i])\n",
    "perm('hello')"
   ]
  },
  {
   "cell_type": "code",
   "execution_count": null,
   "metadata": {},
   "outputs": [],
   "source": [
    "from itertools import permutations\n",
    "\n",
    "stri = permutations(\"hello\")\n",
    "for i in stri:\n",
    "    print (''.join(i))"
   ]
  },
  {
   "cell_type": "code",
   "execution_count": null,
   "metadata": {},
   "outputs": [],
   "source": [
    "from itertools import permutations\n",
    "\n",
    "val = input(\"Enter word: \")\n",
    "for i in permutations(val):\n",
    "    print(''.join(i))"
   ]
  }
 ],
 "metadata": {
  "kernelspec": {
   "display_name": "Python 3",
   "language": "python",
   "name": "python3"
  },
  "language_info": {
   "codemirror_mode": {
    "name": "ipython",
    "version": 3
   },
   "file_extension": ".py",
   "mimetype": "text/x-python",
   "name": "python",
   "nbconvert_exporter": "python",
   "pygments_lexer": "ipython3",
   "version": "3.7.3"
  }
 },
 "nbformat": 4,
 "nbformat_minor": 2
}
